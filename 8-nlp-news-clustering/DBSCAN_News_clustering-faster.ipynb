{
 "cells": [
  {
   "cell_type": "markdown",
   "metadata": {
    "id": "tmmwpH5ocX10"
   },
   "source": [
    "# Phân cụm văn bản báo tiếng việt"
   ]
  },
  {
   "cell_type": "markdown",
   "metadata": {
    "id": "psun5VMAcdmv"
   },
   "source": [
    "## Cài đặt và import các thư viện cần thiết"
   ]
  },
  {
   "cell_type": "code",
   "execution_count": 1,
   "metadata": {
    "colab": {
     "base_uri": "https://localhost:8080/"
    },
    "execution": {
     "iopub.execute_input": "2024-08-25T14:26:29.067112Z",
     "iopub.status.busy": "2024-08-25T14:26:29.066940Z",
     "iopub.status.idle": "2024-08-25T14:26:31.103451Z",
     "shell.execute_reply": "2024-08-25T14:26:31.102996Z"
    },
    "id": "1bf8nPYyKyGI",
    "outputId": "817e4e2d-1640-4171-d3d5-ad9a2354303e"
   },
   "outputs": [],
   "source": [
    "!pip install -qq pyvi sentence_transformers"
   ]
  },
  {
   "cell_type": "code",
   "execution_count": 2,
   "metadata": {
    "execution": {
     "iopub.execute_input": "2024-08-25T14:26:31.105409Z",
     "iopub.status.busy": "2024-08-25T14:26:31.105231Z",
     "iopub.status.idle": "2024-08-25T14:26:32.470551Z",
     "shell.execute_reply": "2024-08-25T14:26:32.470086Z"
    },
    "id": "neoT4-9u_R4A"
   },
   "outputs": [],
   "source": [
    "import json\n",
    "import os\n",
    "import requests\n",
    "import re\n",
    "import torch\n",
    "import numpy as np\n",
    "from pprint import pprint\n",
    "from pyvi import ViTokenizer\n",
    "from tqdm.notebook import tqdm\n",
    "from collections import defaultdict\n",
    "import matplotlib.pyplot as plt"
   ]
  },
  {
   "cell_type": "code",
   "execution_count": 3,
   "metadata": {
    "colab": {
     "base_uri": "https://localhost:8080/"
    },
    "execution": {
     "iopub.execute_input": "2024-08-25T14:26:32.472642Z",
     "iopub.status.busy": "2024-08-25T14:26:32.472401Z",
     "iopub.status.idle": "2024-08-25T14:26:32.485922Z",
     "shell.execute_reply": "2024-08-25T14:26:32.485506Z"
    },
    "id": "9-uHeJm2K_Q-",
    "outputId": "3cac7121-fac9-43b8-9aba-f3e3e0474200"
   },
   "outputs": [
    {
     "name": "stdout",
     "output_type": "stream",
     "text": [
      "Using device: cuda\n"
     ]
    }
   ],
   "source": [
    "# Kiểm tra GPU có khả dụng không\n",
    "device = torch.device('cuda' if torch.cuda.is_available() else 'cpu')\n",
    "if device.type == 'cpu':\n",
    "    raise RuntimeError(\"No GPU found\")\n",
    "\n",
    "print(f'Using device: {device}')"
   ]
  },
  {
   "cell_type": "markdown",
   "metadata": {
    "id": "LPpWkoeLcnZE"
   },
   "source": [
    "## Tiền xử lý dữ liệu"
   ]
  },
  {
   "cell_type": "markdown",
   "metadata": {
    "id": "QQp0cNdIcqak"
   },
   "source": [
    "### Tải bộ văn bản báo tiếng việt về"
   ]
  },
  {
   "cell_type": "code",
   "execution_count": 4,
   "metadata": {
    "colab": {
     "base_uri": "https://localhost:8080/"
    },
    "execution": {
     "iopub.execute_input": "2024-08-25T14:26:32.507095Z",
     "iopub.status.busy": "2024-08-25T14:26:32.506661Z",
     "iopub.status.idle": "2024-08-25T14:26:34.734380Z",
     "shell.execute_reply": "2024-08-25T14:26:34.733921Z"
    },
    "id": "ibSnY4WX8mZ5",
    "outputId": "a0afde55-d09a-4574-8ce7-21c11dbe463f"
   },
   "outputs": [
    {
     "name": "stdout",
     "output_type": "stream",
     "text": [
      "('{\\n'\n",
      " '    \"url\": null,\\n'\n",
      " '    \"title\": \"Nhiều tháng đóng bảo hiểm xã hội bỗng \\\\\"biến mất\\\\\" trên ứng '\n",
      " 'dụng quản lý\",\\n'\n",
      " '    \"description\": \"Một số người lao động truy cập vào tài khoản bảo hiểm xã '\n",
      " 'hội (BHXH) số - VssID thì thấy quá trình tham gia của mình \\\\\"biến mất\\\\\" '\n",
      " 'nhiều tháng.\",\\n'\n",
      " '    \"content\": \"Chị Ngọc Phương tham gia BHXh tự nguyện từ tháng 12/2021. '\n",
      " 'Bắt đầu từ tháng 11/2023 đến nay, chị Phương tham gia BHXH bắt buộc tại công '\n",
      " 'ty. Tuy nhiên, khi truy cập tài khoản VssID, chị Phương không thấy quá trình '\n",
      " 'tham gia BHXH của mình được cập nhật.\\\\nCũng giống Phương, chị Thanh Tuyền '\n",
      " 'tham gia BHXH từ tháng 7/2017 đến nay, trải qua 3 công ty và có 2 giai đoạn '\n",
      " 'tạm ngừng tham gia. Tuy nhiên, khi truy cập tài khoản VssID, chị Tuyền phát '\n",
      " 'hiện quá trình tham gia của mình thiếu mất giai đoạn làm việc ở công ty thứ '\n",
      " '2, kéo dài từ tháng 9/2021 đến tháng 3/2022.\\\\nMới đây, anh Tuấn (làm việc '\n",
      " 'tại một công ty dịch vụ công ích ở TPHCM) truy cập tài khoản VssID cũng thấy '\n",
      " 'thiếu quá trình đóng BHXH từ tháng 8/2007 đến tháng 4/2009. Trong khi đó, '\n",
      " 'trên tờ rời sổ BHXH bản giấy của anh Tuấn có quá trình này.\\\\nChị Thanh Uyên '\n",
      " 'bắt đầu đi làm và tham gia BHXH từ tháng 4/2007 đến nay, trải qua 7 công ty. '\n",
      " 'Tuy nhiên, trên tài khoản VssID của chị không ghi nhận quá trình tham gia '\n",
      " 'BHXH ở bất cứ công ty nào.\\\\nChị Ngọc Phương lo lắng: \\\\\"Nếu không có quá '\n",
      " 'trình tham gia trên VssID, bây giờ tôi nghỉ việc thì có làm đơn xin hưởng '\n",
      " 'bảo hiểm thất nghiệp được không?\\\\\".\\\\nVssID vẫn còn nhiều trường hợp chưa '\n",
      " 'cập nhật đầy đủ dữ liệu tham gia BHXH của người lao động (Ảnh minh họa: Sơn '\n",
      " 'Nguyễn).\\\\nVề trường hợp của chị Ngọc Phương, BHXH Việt Nam cho biết quá '\n",
      " 'trình đóng của chị vẫn được ghi nhận trên hệ thống phần mềm của BHXH Việt '\n",
      " 'Nam. Quá trình đóng BHXH của chị Phương từ tháng 11/2023 đến nay được ghi '\n",
      " 'nhận đầy đủ 2 giai đoạn từ BHXH tự nguyện chuyển sang BHXH bắt buộc.\\\\nTheo '\n",
      " 'BHXH Việt Nam, hiện nay trên ứng dụng VssID còn có trường hợp người lao động '\n",
      " 'bị thiếu quá trình tham gia đóng BHXH.\\\\nĐể nhanh chóng cập nhật thông tin '\n",
      " 'chính xác, khi phát hiện thiếu quá trình đóng, người lao động cần phản ánh '\n",
      " 'ngay với cơ quan BHXH tỉnh, huyện hoặc BHXH Việt Nam (thông qua tổng đài hỗ '\n",
      " 'trợ 19009068 hoặc thông qua Cổng Thông tin điện tử BHXH Việt Nam) để được hỗ '\n",
      " 'trợ.\\\\nBHXH Việt Nam khẳng định toàn bộ quá trình tham gia BHXH, bảo hiểm y '\n",
      " 'tế, bảo hiểm thất nghiệp của người lao động đã được số hóa, đồng bộ, lưu tại '\n",
      " 'Cơ sở dữ liệu của ngành.\\\\nDo đó, người tham gia BHXH không cần quá lo lắng '\n",
      " 'về việc hiển thị thiếu thời gian tham gia đóng BHXH trên ứng dụng VssID. '\n",
      " 'Điều này không ảnh hưởng đến quyền lợi khi người lao động hưởng các chế độ '\n",
      " 'BHXH.\\\\nBHXH Việt Nam đang đẩy mạnh các giải pháp để cập nhật đầy đủ dữ liệu '\n",
      " 'về thời gian tham gia BHXH trên ứng dụng VssID cho người lao động trong thời '\n",
      " 'gian sớm nhất.\",\\n'\n",
      " '    \"metadata\": {\\n'\n",
      " '        \"cat\": \"Xã hội\",\\n'\n",
      " '        \"subcat\": null,\\n'\n",
      " '        \"published_date\": null,\\n'\n",
      " '        \"author\": null\\n'\n",
      " '    },\\n'\n",
      " '    \"web_news\": null\\n'\n",
      " '}')\n"
     ]
    }
   ],
   "source": [
    "# URL trực tiếp đến file JSON thô trên GitHub\n",
    "url = 'https://raw.githubusercontent.com/nmquang003/AI4E/main/test_news_predicted.json'\n",
    "\n",
    "# Tải nội dung của file\n",
    "response = requests.get(url)\n",
    "\n",
    "# Kiểm tra mã trạng thái phản hồi để đảm bảo rằng yêu cầu thành công\n",
    "if response.status_code == 200:\n",
    "    try:\n",
    "        data = response.json()  # Đọc nội dung file JSON\n",
    "\n",
    "        # Hiển thị phần tử đầu tiên của file JSON\n",
    "        if isinstance(data, list) and len(data) > 0:\n",
    "            pprint(json.dumps(data[0], indent=4, ensure_ascii=False))\n",
    "        else:\n",
    "            print(\"Dữ liệu JSON không phải là một danh sách hoặc danh sách trống.\")\n",
    "\n",
    "    except json.JSONDecodeError as e:\n",
    "        print(\"JSONDecodeError: Không thể phân tích nội dung JSON.\")\n",
    "        print(\"Nội dung phản hồi không phải là JSON hợp lệ:\")\n",
    "        print(response.text)  # In ra nội dung phản hồi để kiểm tra\n",
    "else:\n",
    "    print(f\"Yêu cầu thất bại với mã trạng thái {response.status_code}\")\n",
    "    print(\"Nội dung phản hồi:\", response.text)"
   ]
  },
  {
   "cell_type": "code",
   "execution_count": 5,
   "metadata": {
    "colab": {
     "base_uri": "https://localhost:8080/"
    },
    "execution": {
     "iopub.execute_input": "2024-08-25T14:26:34.736036Z",
     "iopub.status.busy": "2024-08-25T14:26:34.735873Z",
     "iopub.status.idle": "2024-08-25T14:26:34.738118Z",
     "shell.execute_reply": "2024-08-25T14:26:34.737813Z"
    },
    "id": "C_0elFkl_box",
    "outputId": "70a331bb-69bd-4502-f63b-43cc016337fb"
   },
   "outputs": [
    {
     "name": "stdout",
     "output_type": "stream",
     "text": [
      "Nội dung:  Chị Ngọc Phương tham gia BHXh tự nguyện từ tháng 12/2021. Bắt đầu từ tháng 11/2023 đến nay, chị Phương tham gia BHXH bắt buộc tại công ty. Tuy nhiên, khi truy cập tài khoản VssID, chị Phương không thấy quá trình tham gia BHXH của mình được cập nhật.\n",
      "Cũng giống Phương, chị Thanh Tuyền tham gia BHXH từ tháng 7/2017 đến nay, trải qua 3 công ty và có 2 giai đoạn tạm ngừng tham gia. Tuy nhiên, khi truy cập tài khoản VssID, chị Tuyền phát hiện quá trình tham gia của mình thiếu mất giai đoạn làm việc ở công ty thứ 2, kéo dài từ tháng 9/2021 đến tháng 3/2022.\n",
      "Mới đây, anh Tuấn (làm việc tại một công ty dịch vụ công ích ở TPHCM) truy cập tài khoản VssID cũng thấy thiếu quá trình đóng BHXH từ tháng 8/2007 đến tháng 4/2009. Trong khi đó, trên tờ rời sổ BHXH bản giấy của anh Tuấn có quá trình này.\n",
      "Chị Thanh Uyên bắt đầu đi làm và tham gia BHXH từ tháng 4/2007 đến nay, trải qua 7 công ty. Tuy nhiên, trên tài khoản VssID của chị không ghi nhận quá trình tham gia BHXH ở bất cứ công ty nào.\n",
      "Chị Ngọc Phương lo lắng: \"Nếu không có quá trình tham gia trên VssID, bây giờ tôi nghỉ việc thì có làm đơn xin hưởng bảo hiểm thất nghiệp được không?\".\n",
      "VssID vẫn còn nhiều trường hợp chưa cập nhật đầy đủ dữ liệu tham gia BHXH của người lao động (Ảnh minh họa: Sơn Nguyễn).\n",
      "Về trường hợp của chị Ngọc Phương, BHXH Việt Nam cho biết quá trình đóng của chị vẫn được ghi nhận trên hệ thống phần mềm của BHXH Việt Nam. Quá trình đóng BHXH của chị Phương từ tháng 11/2023 đến nay được ghi nhận đầy đủ 2 giai đoạn từ BHXH tự nguyện chuyển sang BHXH bắt buộc.\n",
      "Theo BHXH Việt Nam, hiện nay trên ứng dụng VssID còn có trường hợp người lao động bị thiếu quá trình tham gia đóng BHXH.\n",
      "Để nhanh chóng cập nhật thông tin chính xác, khi phát hiện thiếu quá trình đóng, người lao động cần phản ánh ngay với cơ quan BHXH tỉnh, huyện hoặc BHXH Việt Nam (thông qua tổng đài hỗ trợ 19009068 hoặc thông qua Cổng Thông tin điện tử BHXH Việt Nam) để được hỗ trợ.\n",
      "BHXH Việt Nam khẳng định toàn bộ quá trình tham gia BHXH, bảo hiểm y tế, bảo hiểm thất nghiệp của người lao động đã được số hóa, đồng bộ, lưu tại Cơ sở dữ liệu của ngành.\n",
      "Do đó, người tham gia BHXH không cần quá lo lắng về việc hiển thị thiếu thời gian tham gia đóng BHXH trên ứng dụng VssID. Điều này không ảnh hưởng đến quyền lợi khi người lao động hưởng các chế độ BHXH.\n",
      "BHXH Việt Nam đang đẩy mạnh các giải pháp để cập nhật đầy đủ dữ liệu về thời gian tham gia BHXH trên ứng dụng VssID cho người lao động trong thời gian sớm nhất.\n",
      "\n",
      "Nhãn:  Xã hội\n"
     ]
    }
   ],
   "source": [
    "print(\"Nội dung: \", data[0]['content'])\n",
    "print(\"\\nNhãn: \", data[0]['metadata']['cat'])"
   ]
  },
  {
   "cell_type": "markdown",
   "metadata": {
    "id": "V4QutzHVc2nU"
   },
   "source": [
    "### Gộp các bài báo theo thể loại"
   ]
  },
  {
   "cell_type": "code",
   "execution_count": 6,
   "metadata": {
    "colab": {
     "base_uri": "https://localhost:8080/",
     "height": 528
    },
    "execution": {
     "iopub.execute_input": "2024-08-25T14:26:34.739643Z",
     "iopub.status.busy": "2024-08-25T14:26:34.739492Z",
     "iopub.status.idle": "2024-08-25T14:26:34.852421Z",
     "shell.execute_reply": "2024-08-25T14:26:34.852002Z"
    },
    "id": "_IcixlO8ENqw",
    "outputId": "49c65ece-e555-4949-9a7d-aa75b1d35dce"
   },
   "outputs": [
    {
     "data": {
      "image/png": "[encoded data removed]",
      "text/plain": [
       "<Figure size 1000x600 with 1 Axes>"
      ]
     },
     "metadata": {},
     "output_type": "display_data"
    }
   ],
   "source": [
    "# Nhóm các bài báo theo nhãn\n",
    "grouped_data = defaultdict(list)\n",
    "for doc in data:\n",
    "    cat = doc['metadata']['cat']\n",
    "    grouped_data[cat].append({'title': doc['title'], 'content': doc['content']})\n",
    "\n",
    "# Tính số lượng bài báo trong mỗi nhóm\n",
    "group_counts = {cat: len(contents) for cat, contents in grouped_data.items()}\n",
    "\n",
    "# Vẽ biểu đồ cột\n",
    "plt.figure(figsize=(10, 6))\n",
    "bars = plt.bar(group_counts.keys(), group_counts.values(), color='skyblue')\n",
    "\n",
    "# Thêm số lượng lên đỉnh mỗi cột\n",
    "for bar in bars:\n",
    "    yval = bar.get_height()\n",
    "    plt.text(bar.get_x() + bar.get_width()/2, yval, int(yval), va='bottom', ha='center')\n",
    "\n",
    "plt.xlabel('Categories')\n",
    "plt.ylabel('Number of Articles')\n",
    "plt.title('Number of Articles per Category')\n",
    "plt.xticks(rotation=45, ha='right')\n",
    "plt.tight_layout()\n",
    "plt.show()"
   ]
  },
  {
   "cell_type": "code",
   "execution_count": 7,
   "metadata": {
    "colab": {
     "base_uri": "https://localhost:8080/"
    },
    "execution": {
     "iopub.execute_input": "2024-08-25T14:26:34.854266Z",
     "iopub.status.busy": "2024-08-25T14:26:34.854029Z",
     "iopub.status.idle": "2024-08-25T14:26:34.858314Z",
     "shell.execute_reply": "2024-08-25T14:26:34.857918Z"
    },
    "id": "c6YLwSTaThER",
    "outputId": "39fbe061-c983-445c-d322-36fd1d382993"
   },
   "outputs": [
    {
     "data": {
      "text/plain": [
       "423"
      ]
     },
     "execution_count": 7,
     "metadata": {},
     "output_type": "execute_result"
    }
   ],
   "source": [
    "# Chọn nhóm các bài báo lĩnh vực kinh tế để phân cụm\n",
    "social_data = []\n",
    "\n",
    "for doc in grouped_data['Xã hội']:\n",
    "    social_data.append(doc['title'] + ' ' + doc['content'])\n",
    "\n",
    "len(social_data)"
   ]
  },
  {
   "cell_type": "markdown",
   "metadata": {
    "id": "gWjVwh0ZdG4s"
   },
   "source": [
    "### Làm sạch dữ liệu"
   ]
  },
  {
   "cell_type": "code",
   "execution_count": 8,
   "metadata": {
    "colab": {
     "base_uri": "https://localhost:8080/",
     "height": 66,
     "referenced_widgets": [
      "6e373fd3d7404953a589abe4007017d4",
      "1f9fb019a7aa4dbf95e2b78a8b9f2098",
      "a3c8d1b0368f4ece915a9474552417c3",
      "550b47c85be542de9afad73831babcb6",
      "2b9df408514346e8b176747a1a77aca2",
      "5781cba980ae4b319b8dede55f85f6b4",
      "9c0b2acd0fdb4dff9cefebbbf0fa65ab",
      "57db959f12114352962a27a53df97671",
      "c7bacadedead4784806d08dc6c21ab55",
      "49d94d5effe0491dbb3fe84348714db7",
      "7e05858f6e1e4843a823880827bbbb25"
     ]
    },
    "execution": {
     "iopub.execute_input": "2024-08-25T14:26:34.860337Z",
     "iopub.status.busy": "2024-08-25T14:26:34.859953Z",
     "iopub.status.idle": "2024-08-25T14:26:37.434017Z",
     "shell.execute_reply": "2024-08-25T14:26:37.433626Z"
    },
    "id": "jizLMPUcDiI_",
    "outputId": "4904559e-908c-406d-8f3f-e1bc3872eb2b"
   },
   "outputs": [
    {
     "data": {
      "application/vnd.jupyter.widget-view+json": {
       "model_id": "3d040818ec2a4474b13ddfb317c80681",
       "version_major": 2,
       "version_minor": 0
      },
      "text/plain": [
       "Processing articles:   0%|          | 0/423 [00:00<?, ?it/s]"
      ]
     },
     "metadata": {},
     "output_type": "display_data"
    },
    {
     "name": "stdout",
     "output_type": "stream",
     "text": [
      "Average percentage of stop words removed: 2473.69%\n"
     ]
    }
   ],
   "source": [
    "# Danh sách stop words tiếng Việt (ví dụ)\n",
    "stop_words = set([\n",
    "    \"bị\", \"bởi\", \"cả\", \"các\", \"cái\", \"cần\", \"càng\", \"chỉ\", \"chiếc\", \"cho\", \"chứ\", \"chưa\",\n",
    "    \"chuyện\", \"có\", \"có_thể\", \"cứ\", \"của\", \"cùng\", \"cũng\", \"đã\", \"đang\", \"đây\", \"để\",\n",
    "    \"đến\", \"điều\", \"do\", \"đó\", \"được\", \"dưới\", \"gì\", \"khi\", \"không\", \"là\", \"lại\", \"lên\",\n",
    "    \"lúc\", \"mà\", \"một\", \"này\", \"nên\", \"nếu\", \"ngay\", \"nhiều\", \"như\", \"nhưng\", \"những\",\n",
    "    \"nơi\", \"nữa\", \"phải\", \"qua\", \"ra\", \"rằng\", \"rằng\", \"rất\", \"rồi\", \"sau\", \"sẽ\", \"so\",\n",
    "    \"sự\", \"tại\", \"theo\", \"thì\", \"trên\", \"trước\", \"từ\", \"từng\", \"và\", \"vẫn\", \"vào\", \"vậy\",\n",
    "    \"vì\", \"việc\", \"với\"\n",
    "])\n",
    "\n",
    "### YOUR CODE START HERE ###\n",
    "\n",
    "def preprocess(text):\n",
    "    # Tokenize văn bản\n",
    "    text = ViTokenizer.tokenize(text)\n",
    "    # Loại bỏ ký tự đặc biệt\n",
    "    text = re.sub(r'\\W', ' ', text)\n",
    "    # Chuyển về chữ thường\n",
    "    text = text.lower()\n",
    "    # Chia văn bản thành list các từ\n",
    "    words = text.split()\n",
    "    # Đếm số lượng từ\n",
    "    original_count = len(words)\n",
    "    # Loại bỏ stop words\n",
    "    filtered_words = [word for word in words if word not in stop_words]\n",
    "    # Đếm số lượng từ sau loại bỏ\n",
    "    filtered_count = len(filtered_words)\n",
    "    # Gộp các từ lại thành đoạn\n",
    "    text = ' '.join(filtered_words)\n",
    "    # Tính phần trăm stopword đã loại bỏ\n",
    "    stopword_percentage = (original_count - filtered_count) / original_count * 100\n",
    "    # Trả ra kết quả\n",
    "    return text, stopword_percentage\n",
    "\n",
    "### YOUR CODE END HERE ###\n",
    "\n",
    "\n",
    "# Tiền xử lý nội dung các bài báo\n",
    "total_stopword_percentage = 0\n",
    "texts = []\n",
    "\n",
    "for doc in tqdm(social_data, desc=\"Processing articles\"):\n",
    "    processed_content, stopword_percentage = preprocess(doc)\n",
    "    texts.append(processed_content)\n",
    "    total_stopword_percentage += stopword_percentage\n",
    "\n",
    "average_stopword_percentage = total_stopword_percentage / len(social_data) * 100\n",
    "\n",
    "print(f\"Average percentage of stop words removed: {average_stopword_percentage:.2f}%\")"
   ]
  },
  {
   "cell_type": "code",
   "execution_count": 9,
   "metadata": {
    "colab": {
     "base_uri": "https://localhost:8080/"
    },
    "execution": {
     "iopub.execute_input": "2024-08-25T14:26:37.436650Z",
     "iopub.status.busy": "2024-08-25T14:26:37.436346Z",
     "iopub.status.idle": "2024-08-25T14:26:37.438617Z",
     "shell.execute_reply": "2024-08-25T14:26:37.438314Z"
    },
    "id": "MRj85o3aLD1e",
    "outputId": "1f2cac4e-1882-4a2d-b9a8-c379c59bf554"
   },
   "outputs": [
    {
     "name": "stdout",
     "output_type": "stream",
     "text": [
      "tháng đóng bảo_hiểm xã_hội bỗng biến mất ứng_dụng quản_lý chị ngọc_phương tham_gia bhxh tự_nguyện tháng 12 2021 bắt_đầu_từ tháng 11 2023 nay chị phương tham_gia bhxh bắt_buộc công_ty tuy_nhiên truy_cập tài_khoản vssid chị phương thấy quá_trình tham_gia bhxh mình cập_nhật giống phương chị thanh_tuyền tham_gia bhxh tháng 7 2017 nay trải 3 công_ty 2 giai_đoạn tạm ngừng tham_gia tuy_nhiên truy_cập tài_khoản vssid chị tuyền phát_hiện quá_trình tham_gia mình thiếu mất giai_đoạn làm_việc ở công_ty thứ 2 kéo_dài tháng 9 2021 tháng 3 2022 mới_đây anh tuấn làm_việc công_ty dịch_vụ công_ích ở tphcm truy_cập tài_khoản vssid thấy thiếu quá_trình đóng bhxh tháng 8 2007 tháng 4 2009 trong tờ rời sổ bhxh bản giấy anh tuấn quá_trình chị thanh_uyên bắt_đầu đi làm tham_gia bhxh tháng 4 2007 nay trải 7 công_ty tuy_nhiên tài_khoản vssid chị ghi_nhận quá_trình tham_gia bhxh ở bất_cứ công_ty nào chị ngọc_phương lo_lắng quá_trình tham_gia vssid bây_giờ tôi nghỉ_việc làm đơn xin hưởng bảo_hiểm_thất_nghiệp vssid còn trường_hợp cập_nhật đầy_đủ dữ_liệu tham_gia bhxh người lao_động ảnh minh_họa sơn nguyễn về trường_hợp chị ngọc_phương bhxh việt_nam biết quá_trình đóng chị ghi_nhận hệ_thống phần_mềm bhxh việt_nam quá_trình đóng bhxh chị phương tháng 11 2023 nay ghi_nhận đầy_đủ 2 giai_đoạn bhxh tự_nguyện chuyển sang bhxh bắt_buộc bhxh việt_nam hiện_nay ứng_dụng vssid còn trường_hợp người lao_động thiếu quá_trình tham_gia đóng bhxh nhanh_chóng cập_nhật thông_tin chính_xác phát_hiện thiếu quá_trình đóng người lao_động phản_ánh cơ_quan bhxh tỉnh huyện hoặc bhxh việt_nam thông_qua tổng_đài hỗ_trợ 19009068 hoặc thông_qua cổng thông_tin điện_tử bhxh việt_nam hỗ_trợ bhxh việt_nam khẳng_định toàn_bộ quá_trình tham_gia bhxh bảo_hiểm y_tế bảo_hiểm_thất_nghiệp người lao_động số hóa đồng_bộ lưu cơ_sở dữ_liệu ngành người tham_gia bhxh quá lo_lắng về hiển_thị thiếu_thời_gian_tham_gia đóng bhxh ứng_dụng vssid ảnh_hưởng quyền_lợi người lao_động hưởng chế_độ bhxh bhxh việt_nam đẩy_mạnh giải_pháp cập_nhật đầy_đủ dữ_liệu về thời_gian_tham_gia bhxh ứng_dụng vssid người lao_động trong thời_gian sớm nhất\n"
     ]
    }
   ],
   "source": [
    "print(texts[0])"
   ]
  },
  {
   "cell_type": "markdown",
   "metadata": {
    "id": "_wipqDyAgBq5"
   },
   "source": [
    "### Trích chọn đặc trưng, tạo vector biểu diễn cho dữ liệu"
   ]
  },
  {
   "cell_type": "markdown",
   "metadata": {
    "id": "b8Bke1UjoNyp"
   },
   "source": [
    "#### Dùng TF-IDF"
   ]
  },
  {
   "cell_type": "code",
   "execution_count": 10,
   "metadata": {
    "execution": {
     "iopub.execute_input": "2024-08-25T14:26:37.440356Z",
     "iopub.status.busy": "2024-08-25T14:26:37.440199Z",
     "iopub.status.idle": "2024-08-25T14:26:37.442075Z",
     "shell.execute_reply": "2024-08-25T14:26:37.441784Z"
    },
    "id": "fhMnUmzmoQxt"
   },
   "outputs": [],
   "source": [
    "# # Vectorize texts using TF-IDF for SVM\n",
    "# tfidf_vectorizer = TfidfVectorizer(max_features=5000, tokenizer=lambda x: x, preprocessor=lambda x: x, token_pattern=None)\n",
    "# economics_embeddings = tfidf_vectorizer.fit_transform(texts)\n",
    "\n",
    "# economics_embeddings = economics_embeddings.toarray()\n",
    "# print(economics_embeddings.shape)"
   ]
  },
  {
   "cell_type": "markdown",
   "metadata": {
    "id": "gKQyCbCloLPu"
   },
   "source": [
    "#### Dùng SBert"
   ]
  },
  {
   "cell_type": "code",
   "execution_count": 11,
   "metadata": {
    "colab": {
     "base_uri": "https://localhost:8080/",
     "height": 560,
     "referenced_widgets": [
      "2c17c43ce01e49a780e82090c9895451",
      "c29cce795dda48f89f314953b00b3aa4",
      "b4ee22f4e676484796b70622fd5eacb6",
      "1a7b105a443842f7bff844738c01bd93",
      "0b4ff9eb57be49db83996ea188d6f26e",
      "15f69cdb59b641fba0fe6394a0b9e4c5",
      "b73292812f1a40178544a0024d3515fa",
      "2938016024d649408297940d7599c25d",
      "5c623ce438244fc482662a069010963e",
      "02366db263fc47dead7efb02ae2fda13",
      "111e792afc5e4f7e837302091f9d40b8",
      "c5307b3f889e4c508857d6ca92182f03",
      "cad0ed5add6c4094baab9d3ae59b6844",
      "603685aed3aa4cfd808ca53c93015c78",
      "3ca4ed87014f4e41a9a3ea4359530f1c",
      "4b2bea02c1c34d1798ad74efdc6584e8",
      "46d2a1097317476faf48d2885fb67022",
      "aaa205838fe140888ed6bed1606a22a7",
      "a40eb041bb8942409fe4d8c4ec50ebdd",
      "c9d137adb8784de09c9bb14f3dd75c21",
      "86c693694ef242379a63c94bd514d6f8",
      "7c4670cd3f6c42de82ef124d83126af2",
      "6a51f7817db043c083a5c78daeb467ad",
      "490c49b6e0d44b49806788f8adfa29b9",
      "0911ee143ae1487b8950f10a94edd251",
      "fbbf3cb6b93b4ed3886c1b564c3f3992",
      "451539c9a7e54bcead381718a5cfad08",
      "c2329f44090e4dadb4ba004de4f99fb4",
      "825d73077f5145d59c15c35c19faff91",
      "6296a46f8fa24cb4a1b9f4477dd10da7",
      "4c8d70ee15e243869812cdf283330ce3",
      "7d7a56c57a5b467782099c0094ec93cc",
      "f693ba7ec9f648e7ad05d6b56d158ea2",
      "b91de892d389445884f8b4db0902e3d5",
      "279c458485a5482cae7251ed80a19ace",
      "50bafa70729444b1aee35154e064614b",
      "ed6c0bed79144658bdc8b697dbba3adb",
      "505ff88ae79d4fd68b0abfe135d7f2c5",
      "12a8e1929ea7481ea0a16cfaee3831c3",
      "133cb25c1d7e4108a8b5881d358a3d1a",
      "5b2d70b5f7ad46d0b4fb02aeffe29edb",
      "70740a5869224d719058863e678b1bdc",
      "5008d106d555410bb5e3929429e5fe86",
      "877e3bebfadb4fd1a0d2f7e014da6d24",
      "6d220dba2c2643329cfae803f28a509a",
      "6a59ebb9865b4343b60dff7bfab2f417",
      "c54d48dfbbff4411a9878156d58b7627",
      "5ae29d68c392429cb08e81402d34de59",
      "b94ae758e4ae46fd9b8b75aaaf6a49e7",
      "f11ead3afaef4c15adf76385e4bcbf10",
      "4514a096cff3494f9214d351de98b35a",
      "00f358cee03949f996f369f4a9e606fb",
      "38d776a177854ca989d1abf3ae5620ae",
      "730b1d49a9824535af3aa5e93cc72076",
      "5061de9689da4f95bcf79ad32fc82d16",
      "8197bdba92d1412c9208010fe45bc09d",
      "f323d24efd264dbd9838d479bf697bb0",
      "833da3edf82243aeaea8a37a22bd9798",
      "17564e9e22a7485a9e9c3d7cea5c08d5",
      "82299483b65c4da89d29f2f7d1f0324f",
      "4f8374e09fd04515b2d2de927b3436bc",
      "09cbb9a13a7c4674b7eca2c4a394fe05",
      "f908691fcd0a4911945a2f154fc3bd00",
      "4c78d7e7367e468097f616969be1dd3d",
      "55fb0c4912cb48cb9880eb079a09a600",
      "849edb9369504bacb77f42c2c7a9cc0f",
      "1ed88afe2aa04bba94514aec177659ab",
      "f6486a235b004437ab4e2138b7168268",
      "656da3f558a34684958c99d3d1581a36",
      "0149a9419f2e42b0a7af928ddc3646ab",
      "64822335e2ab45189d7c6f02a86c5bb7",
      "f9ad13f7f7cf40d0bb5ba169ca39a26c",
      "6f05a5cecff8459595e1e222dc6890de",
      "5d0a2db74d1f4bd2853ca8acb73c65e3",
      "5b9a44eaf6a54681bceaf94bd0fda0b6",
      "3966759fd07148c99338cc820dd80b43",
      "02d050bbbbc840ba97ef929dd465d30e",
      "90ee7ce2993240c38490b73c246df451",
      "ea6889ab4c7847f69a927923557da46e",
      "ab9e8600fa4a46a58f4050ab26607946",
      "5b89b2d722ff4cebaa49a5c87839858e",
      "f1b9e5ea1ba9414595acdc85c1731f7f",
      "0555fb67f081440f9f90ae28d42f46f6",
      "d19f35e4249f4f129ad60c5b144b7737",
      "0da337e705a24834953255c319c6407c",
      "a702f98d703947c39619333d6556fcf3",
      "a5a9f1a180f645408dec9707af16f810",
      "f03a60ad4bba4542bf4f3743ed85541d",
      "e18fc58f5011456baf53d2a6b538bfaa",
      "77473e8d0a3e403b9f47b80dc3adc7e4",
      "6ba537ffb0e445a69745eea2075df580",
      "ac99906c1c934333a5610c2133db02ef",
      "29ae1df8bdd34a1996549b6c7edf14f2",
      "48f8222aa2e248b3ab66c01c6ffbf4bd",
      "6c2ac5b7bbdb4ef1a4fe69e24a4985c6",
      "bc062281ff104a23805988d3a8faa646",
      "509b187fbd83446e80d39a2b886e1184",
      "1171c9160b1044a1b1f9b6d8bb28eb77",
      "660d7f1aa5084115adcf4862b090e505",
      "aab440c4420d4e48b3db6f30575e7cc3",
      "a72724f6ccc04b44bcd9dc0e8f0f4936",
      "e99c60ca8ef4469fa709ba213eabc49c",
      "3d4e020f67a441d690a3aa8d432607c8",
      "0a275e65fea04893a51c169d6c5deefb",
      "c5b02b5213d94eb0b86368f2724edde4",
      "6f7d92d06154460d8ce7dccde8459268",
      "e6e266e9afd644019cfcfaafb1c7b5e8",
      "f5141d881ce1408da0fadd2235b79faa",
      "fb75cb3b26bb4957b57ed7a3dfd7af72",
      "036fbd19ae854e98a42a6f47521da91a",
      "5a609487296b4e64b68fc640dfb3ea21",
      "3ef6d87a4e0e45bca3b1d80db550037f",
      "672c0f1aa4d0448e99f74ec3be01c8c2",
      "1f00966dc296411db522ee83e4b45ca9",
      "68d5f7434cb54a748f0dad9993c3abeb",
      "efa3b6b768a94abdba677d9cf7aa94c6",
      "1fcc5ecee3204662b206fe32a4e45c7d",
      "22bb5959013143dba35a9548f039dba6",
      "55b42c09d98e4e719829c0962a22ab80",
      "f0a4118ee8d142deb5e1b7b647146052",
      "6a1f75c725184cb9934ba9af454c5f11",
      "d370ce799a894ebfb1698ea1e407fe00",
      "0e29c2dd4bb7452abf39f59b2ae59e84",
      "69edac31ef43499c94eea2c51c687138",
      "220c86a549ff4bafb4045621aec01d17",
      "a113e819ffeb43238c01fe17f4fbafa5",
      "ad0dc485cd604ad5a9ea38699e864ca6",
      "4e9f6b3429044dafa15089da6b484fc9",
      "66f604fbdfd54001aaf1d552f95ade3a",
      "70afd0c0489a47cfb23f96b27e9689e0",
      "07aed3a3dee44aec89501954bd4abb1e",
      "d565a298cd5748d5a619d62b44deffaa"
     ]
    },
    "execution": {
     "iopub.execute_input": "2024-08-25T14:26:37.443827Z",
     "iopub.status.busy": "2024-08-25T14:26:37.443680Z",
     "iopub.status.idle": "2024-08-25T14:26:42.544896Z",
     "shell.execute_reply": "2024-08-25T14:26:42.544507Z"
    },
    "id": "gY6yPilbEQ9Q",
    "outputId": "fcf15a19-fbf2-44af-d49f-e1724f8ba8a9"
   },
   "outputs": [
    {
     "name": "stderr",
     "output_type": "stream",
     "text": [
      "/home/ltpq/.local/lib/python3.10/site-packages/sentence_transformers/cross_encoder/CrossEncoder.py:11: TqdmExperimentalWarning: Using `tqdm.autonotebook.tqdm` in notebook mode. Use `tqdm.tqdm` instead to force console mode (e.g. in jupyter console)\n",
      "  from tqdm.autonotebook import tqdm, trange\n"
     ]
    },
    {
     "name": "stderr",
     "output_type": "stream",
     "text": [
      "2024-08-25 21:26:37.824602: I tensorflow/core/util/port.cc:113] oneDNN custom operations are on. You may see slightly different numerical results due to floating-point round-off errors from different computation orders. To turn them off, set the environment variable `TF_ENABLE_ONEDNN_OPTS=0`.\n",
      "2024-08-25 21:26:37.856535: I tensorflow/core/platform/cpu_feature_guard.cc:210] This TensorFlow binary is optimized to use available CPU instructions in performance-critical operations.\n",
      "To enable the following instructions: AVX2 AVX_VNNI FMA, in other operations, rebuild TensorFlow with the appropriate compiler flags.\n"
     ]
    },
    {
     "name": "stderr",
     "output_type": "stream",
     "text": [
      "2024-08-25 21:26:38.357692: W tensorflow/compiler/tf2tensorrt/utils/py_utils.cc:38] TF-TRT Warning: Could not find TensorRT\n"
     ]
    },
    {
     "name": "stderr",
     "output_type": "stream",
     "text": [
      "/home/ltpq/.local/lib/python3.10/site-packages/huggingface_hub/file_download.py:1132: FutureWarning: `resume_download` is deprecated and will be removed in version 1.0.0. Downloads always resume when possible. If you want to force a new download, use `force_download=True`.\n",
      "  warnings.warn(\n"
     ]
    },
    {
     "name": "stderr",
     "output_type": "stream",
     "text": [
      "/usr/local/lib/python3.10/dist-packages/torch/_utils.py:776: UserWarning: TypedStorage is deprecated. It will be removed in the future and UntypedStorage will be the only storage class. This should only matter to you if you are using storages directly.  To access UntypedStorage directly, use tensor.untyped_storage() instead of tensor.storage()\n",
      "  return self.fget.__get__(instance, owner)()\n"
     ]
    }
   ],
   "source": [
    "from sentence_transformers import SentenceTransformer\n",
    "\n",
    "# Chọn mô hình và chuyển sang GPU\n",
    "model = SentenceTransformer('keepitreal/vietnamese-sbert', device=device)"
   ]
  },
  {
   "cell_type": "code",
   "execution_count": 12,
   "metadata": {
    "colab": {
     "base_uri": "https://localhost:8080/"
    },
    "execution": {
     "iopub.execute_input": "2024-08-25T14:26:42.547618Z",
     "iopub.status.busy": "2024-08-25T14:26:42.547315Z",
     "iopub.status.idle": "2024-08-25T14:26:42.729158Z",
     "shell.execute_reply": "2024-08-25T14:26:42.728725Z"
    },
    "id": "4DBIo5-xI4XC",
    "outputId": "1572d7ac-8ec9-4fae-839f-23f7f1437bde"
   },
   "outputs": [
    {
     "name": "stdout",
     "output_type": "stream",
     "text": [
      "(768,)\n",
      "[ 4.03795391e-01  5.39230764e-01 -5.04004896e-01 -7.17044473e-01\n",
      "  1.07034892e-01 -2.92842567e-01 -4.59062494e-02  1.52295217e-01\n",
      " -2.34072953e-01 -1.54185370e-01  1.17455214e-01  4.30376709e-01\n",
      "  9.63170826e-02  1.83036506e-01  7.68422261e-02  1.74694210e-01\n",
      "  5.25178909e-02 -4.52809706e-02  1.42724842e-01 -6.85166344e-02\n",
      " -1.18663006e-01 -6.38732553e-01  4.99835044e-01 -4.58089620e-01\n",
      " -9.92408395e-02 -4.88896430e-01 -2.52603125e-02  4.34167944e-02\n",
      " -5.65652370e-01  1.12226695e-01  2.30188519e-01  8.20210427e-02\n",
      "  1.53543670e-02  3.64027530e-01  9.53538179e-01  6.19501233e-01\n",
      " -1.63106173e-01  3.23149681e-01  5.45238495e-01  7.96736002e-01\n",
      "  1.33982927e-01 -2.79224571e-02  7.80682325e-01  9.98718888e-02\n",
      " -4.42460589e-02  3.56377028e-02 -2.68451512e-01 -5.08545518e-01\n",
      "  3.80318575e-02 -3.78400311e-02  9.80227217e-02 -1.67623699e-01\n",
      " -2.87249126e-02  4.09534484e-01 -4.92820814e-02  1.77344412e-01\n",
      " -2.85189480e-01  3.29363167e-01 -3.32213342e-01  1.07594542e-01\n",
      " -2.70092010e-01  7.37595260e-02 -6.12469673e-01 -1.11583136e-01\n",
      "  6.75355941e-02 -4.36717719e-01  1.31849483e-01 -3.02043080e-01\n",
      "  1.87064931e-01  2.55655169e-01  3.60758342e-02 -2.84950733e-01\n",
      "  3.51535946e-01 -7.59515703e-01  3.50945652e-01 -4.87261832e-01\n",
      "  2.63711184e-01  1.32680267e-01 -6.55135363e-02  2.07460865e-01\n",
      " -8.76107812e-02 -2.19091699e-01  5.22215486e-01 -4.32978757e-03\n",
      "  1.12456486e-01 -1.03164241e-02 -4.99426603e-01  1.26912817e-01\n",
      " -2.27988303e-01 -1.55092645e-02 -1.64518595e-01  6.92861915e-01\n",
      " -3.96892488e-01 -1.05977423e-01 -9.26469266e-02 -1.99691325e-01\n",
      " -3.18954885e-01  5.77547289e-02  5.13433933e-01 -3.09521377e-01\n",
      "  2.29003578e-02 -4.54588652e-01  5.35696268e-01  1.90654248e-01\n",
      " -5.60950302e-03  1.21411048e-02  2.80664004e-02  1.23475427e-02\n",
      "  2.22801298e-01 -4.17002916e-01 -4.77061570e-01  4.29784432e-02\n",
      "  4.01595771e-01  7.14867860e-02 -2.42558002e-01  1.69583917e-01\n",
      " -2.99601287e-01 -3.31729621e-01 -2.32424214e-01 -4.61469114e-01\n",
      "  1.72242254e-01 -4.13852818e-02 -2.55402774e-01  2.31370509e-01\n",
      "  2.39029512e-01 -1.16233498e-01 -2.99631879e-02  1.31266937e-02\n",
      "  2.47224629e-01  3.37945759e-01  3.25072885e-01 -1.58959821e-01\n",
      "  5.09443402e-01 -1.89222246e-02  1.29986376e-01  1.86261505e-01\n",
      "  3.24370831e-01  1.68175384e-01 -2.11514115e-01  3.70611101e-01\n",
      " -4.79817651e-02  2.56599069e-01  3.19707632e-01  3.25011909e-02\n",
      " -3.32488358e-01  1.21249929e-01 -1.74193412e-01 -6.04712255e-02\n",
      " -1.15983076e-01  6.87678337e-01 -6.09295964e-01  2.84933656e-01\n",
      "  2.52785951e-01 -1.95004698e-02 -2.18488157e-01 -1.37307495e-01\n",
      "  2.73635149e-01  2.49172181e-01 -5.51789105e-02 -1.65308788e-01\n",
      " -3.16854268e-01  4.61431444e-01  2.95089781e-01  1.67538971e-01\n",
      " -3.85286003e-01  1.10136911e-01 -3.87635976e-01  1.69109702e-01\n",
      "  2.15372205e-01 -6.58692271e-02 -8.22942704e-02  2.56526649e-01\n",
      " -2.59009033e-01 -8.07498302e-03 -7.35956728e-01 -2.14365289e-01\n",
      "  5.15209973e-01 -5.39796688e-02 -9.31643993e-02  5.45365810e-01\n",
      "  2.04622164e-01 -1.33677512e-01  3.09903562e-01  1.73082560e-01\n",
      "  8.76121223e-02  2.79003680e-01  1.25429496e-01 -1.73599973e-01\n",
      " -2.38887742e-02 -3.41402888e-01  7.27789581e-01  2.61248529e-01\n",
      " -2.88161598e-02 -2.49411866e-01 -1.28870428e-01  8.13061446e-02\n",
      " -2.75268048e-01  2.81381696e-01  4.09678847e-01  2.68272460e-01\n",
      " -2.13639140e-01  2.33643025e-01  1.90954924e-01 -2.35349447e-01\n",
      " -3.71881962e-01 -9.22507420e-02  2.62504607e-01 -3.87363106e-01\n",
      "  9.00139660e-02  4.71276611e-01 -2.86034569e-02 -3.10206294e-01\n",
      "  1.60736620e-01 -2.34018266e-03 -3.75781327e-01 -4.29637015e-01\n",
      " -2.27311403e-01 -2.88118944e-02  7.17012677e-03 -6.74152747e-02\n",
      "  4.52645898e-01  2.41782844e-01  2.22094685e-01 -6.15885437e-01\n",
      "  6.58441424e-01 -3.95103037e-01 -9.31135863e-02  3.30020308e-01\n",
      "  2.07672283e-01 -3.33522379e-01 -2.20656097e-01 -1.28948346e-01\n",
      "  1.80899829e-01  3.26671377e-02 -7.63898417e-02 -1.80700108e-01\n",
      "  5.80158830e-01  4.77324054e-02  3.02967429e-01  1.64929092e-01\n",
      " -6.18489325e-01  1.77708477e-01 -6.52240038e-01  1.40257686e-01\n",
      "  4.46606994e-01  8.78544927e-01 -1.49377868e-01  2.21789107e-01\n",
      " -2.76798785e-01 -4.38997984e-01 -3.93541098e-01 -1.95029199e-01\n",
      "  3.65776718e-01 -2.25344330e-01  2.67699003e-01  9.01876017e-02\n",
      "  7.83198327e-02  4.01173055e-01  6.12401068e-02  1.43114194e-01\n",
      "  4.20609117e-01  2.53560066e-01 -2.11919636e-01 -6.47667587e-01\n",
      " -1.28282100e-01 -3.40265155e-01 -8.19763094e-02  1.35879934e-01\n",
      " -3.67802352e-01  2.89418697e-01 -3.22528809e-01  3.68129283e-01\n",
      "  2.37748802e-01  6.85706019e-01 -2.82967091e-01  4.54968184e-01\n",
      "  4.83040988e-01  1.13783836e-01  2.06784904e-01  4.46339786e-01\n",
      "  5.67690372e-01 -1.56696767e-01  5.16025782e-01  6.98567331e-01\n",
      "  3.92977834e-01  3.63483757e-01  6.83704913e-01 -2.24379778e-01\n",
      "  2.42484897e-01 -3.24931562e-01 -5.39660454e-01  3.64409357e-01\n",
      "  3.92590851e-01  4.60366130e-01 -2.79867351e-01 -4.35459726e-02\n",
      " -3.58083993e-01  9.17114168e-02 -9.59070586e-03  4.98917699e-01\n",
      "  1.30581960e-01 -2.39632815e-01 -3.71299028e-01  4.74175029e-02\n",
      "  2.04444453e-01 -1.05433455e-02 -4.50382113e-01  2.17058569e-01\n",
      " -9.26435739e-02  4.33509946e-01  3.92030001e-01  3.48063201e-01\n",
      "  1.30310774e-01  3.26710224e-01 -4.13730860e-01  3.22269142e-01\n",
      "  6.06573761e-01 -1.10128768e-01 -5.33223569e-01 -2.92585343e-01\n",
      "  2.70228088e-01  2.09548995e-01 -1.48629352e-01 -3.22611749e-01\n",
      " -1.56593949e-01  6.52831048e-02 -1.56357646e-01 -2.59229243e-01\n",
      " -5.80542922e-01 -5.22833705e-01  3.37198675e-01  4.95026827e-01\n",
      "  1.33207291e-02 -1.62856251e-01 -1.60549819e-01 -1.70517087e-01\n",
      " -3.82930547e-01  1.14801660e-01 -1.96222842e-01 -8.45669627e-01\n",
      "  8.85442868e-02  2.81503469e-01 -2.81797796e-01 -1.93645671e-01\n",
      "  2.99001306e-01  2.06628814e-01  1.92309394e-02  1.75974723e-02\n",
      "  7.70335793e-01 -1.95163727e-01  3.99932444e-01 -2.54384764e-02\n",
      " -1.97464377e-01 -3.22720379e-01  4.48164284e-01 -4.80233490e-01\n",
      "  1.06001057e-01  2.31777549e-01 -1.53911278e-01 -1.64004520e-01\n",
      " -2.73315728e-01 -2.68526226e-02  5.47553524e-02  3.83571014e-02\n",
      "  5.29117763e-01 -7.60191828e-02  4.26279306e-01 -4.29092795e-01\n",
      "  5.82394823e-02 -6.76205307e-02 -7.84216449e-04  3.14500704e-02\n",
      "  3.31249237e-02 -4.31463093e-01  1.73127905e-01  3.39203596e-01\n",
      "  6.69348240e-02  2.58478940e-01  2.45707944e-01  4.22550112e-01\n",
      "  2.71936506e-01  8.37143734e-02 -2.36264601e-01 -1.68112814e-01\n",
      " -2.24007592e-01 -1.85069412e-01 -6.26351058e-01  1.21728517e-01\n",
      "  9.35347438e-01  4.82896566e-02 -2.89292425e-01 -6.53716028e-01\n",
      " -5.40330634e-03  2.67253578e-01  6.29974782e-01  1.41095296e-01\n",
      " -7.64761791e-02 -2.00026587e-01  1.60636663e-01  8.94595608e-02\n",
      "  9.82697234e-02  5.58954366e-02 -3.07025194e-01 -2.39239007e-01\n",
      "  5.06542444e-01  4.32477325e-01  2.05260456e-01 -1.48997009e-01\n",
      " -2.91208446e-01 -2.86797941e-01  1.19566061e-02  1.57733262e-01\n",
      " -2.35250056e-01 -4.59749699e-01 -4.31364626e-01 -4.05414343e-01\n",
      " -1.88614205e-02 -4.36007500e-01  2.91361034e-01  9.16876420e-02\n",
      " -1.47068352e-01 -7.42825344e-02 -1.30214661e-01  2.50427008e-01\n",
      "  9.97547284e-02  2.71613523e-02 -5.65413654e-01  5.93594275e-02\n",
      "  7.78426975e-03 -4.64054585e-01 -3.16257715e-01  4.45140183e-01\n",
      "  8.73602405e-02  4.02947009e-01  6.47582471e-01  3.44773412e-01\n",
      "  6.22761071e-01  1.42745122e-01  3.55317563e-01 -8.05250466e-01\n",
      "  7.69698247e-02  3.21485996e-01 -3.70108992e-01 -7.03668594e-03\n",
      " -1.37843136e-02 -9.49537680e-02  8.58536243e-01  3.95588160e-01\n",
      "  9.24070776e-02  1.54054984e-01  7.73881823e-02  2.87168622e-01\n",
      " -9.90302786e-02 -2.36559063e-01 -1.90014718e-03 -2.20481962e-01\n",
      "  7.58397579e-01  5.30493736e-01 -1.25629172e-01 -1.01171851e-01\n",
      "  1.05572438e+00  5.24209142e-01 -3.68601233e-02  5.62265255e-02\n",
      "  4.29920942e-01  3.86680752e-01 -1.58628657e-01  1.45557791e-01\n",
      " -3.82983357e-01 -3.34807970e-02  1.00870863e-01  3.55390757e-01\n",
      "  3.16785365e-01  7.46937320e-02 -3.35848123e-01 -1.03108510e-01\n",
      " -4.39508736e-01  1.63719416e-01 -6.06867373e-02  2.91894078e-01\n",
      "  2.31353313e-01 -1.75230339e-01 -4.57856685e-01 -6.58862442e-02\n",
      "  2.25809604e-01 -1.39275819e-01  1.53692365e-01 -5.85062563e-01\n",
      "  1.48272127e-01 -6.53119802e-01 -5.16887963e-01  7.05319792e-02\n",
      " -1.01628341e-01  4.39041048e-01  5.61611772e-01  1.25673383e-01\n",
      "  1.64113462e-01 -1.41530111e-01  9.49231684e-02 -2.32864797e-01\n",
      " -3.87716383e-01 -4.20606732e-01  2.36319184e-01  5.22060245e-02\n",
      "  5.86122513e-01  2.30067134e-01  6.18570149e-02  7.79265165e-01\n",
      " -1.85518861e-01 -3.30261797e-01  3.35118361e-03  2.52650380e-01\n",
      "  2.26247963e-02  1.52580917e-01 -2.30309134e-03  1.97436333e-01\n",
      "  2.39568070e-01  4.00679857e-02 -2.47083873e-01  4.04937059e-01\n",
      "  5.51850915e-01  2.96214163e-01  7.60087222e-02 -1.49215102e-01\n",
      "  4.62059826e-01 -4.23112586e-02  1.06616914e-01 -4.51014698e-01\n",
      " -1.16142355e-01  1.19587205e-01 -2.44092539e-01  2.85002202e-01\n",
      "  8.08943272e-01 -6.35897696e-01  1.43338308e-01  2.53203034e-01\n",
      " -2.74636894e-01 -8.51596355e-01 -3.03822964e-01  6.92826658e-02\n",
      "  1.34227034e-02  1.83295101e-01  2.27601588e-01  4.92096543e-02\n",
      "  3.31094235e-01 -2.07682252e-01  1.07775554e-01  4.81958866e-01\n",
      " -3.86108160e-01  1.89370573e-01  9.74831060e-02 -5.57693005e-01\n",
      "  3.08255076e-01  3.31034809e-01  1.19235024e-01 -9.23297554e-02\n",
      "  6.52638435e-01  1.35315880e-01  5.27831972e-01  6.25328302e-01\n",
      "  3.13671827e-01 -3.92977774e-01 -5.89050293e-01  6.31630123e-02\n",
      " -2.17768047e-02 -3.23457867e-01 -7.47717023e-02  2.93918639e-01\n",
      "  5.21911025e-01  2.39207715e-01 -2.38916039e-01 -4.36770499e-01\n",
      "  1.74052656e-01  1.58959836e-01  1.33579344e-01 -2.11599857e-01\n",
      " -6.41256094e-01  2.15076864e-01 -1.81491613e-01 -6.73506200e-01\n",
      "  2.30596036e-01 -2.15418249e-01 -2.37440109e-01 -5.92954993e-01\n",
      " -8.04426074e-02  3.14457178e-01 -7.65589029e-02  3.09469163e-01\n",
      "  9.09455344e-02 -2.78522670e-01  1.49567053e-02  1.48999527e-01\n",
      "  3.13528538e-01  2.69543439e-01  3.36332947e-01 -1.12117328e-01\n",
      "  4.73630935e-01 -1.01854905e-01  1.88132972e-01  4.86628056e-01\n",
      " -1.28856868e-01 -3.26474547e-01  1.49822950e-01  1.00013113e+00\n",
      "  8.03226009e-02 -2.23295420e-01 -2.62458563e-01 -7.29272604e-01\n",
      "  3.21387172e-01  1.67272165e-01  5.76234162e-01  5.41667163e-01\n",
      " -8.30509365e-02 -3.67486894e-01  8.27686906e-01  4.16711479e-01\n",
      " -1.73355922e-01 -2.07857832e-01 -1.67287961e-01  1.28108159e-01\n",
      " -3.37140501e-01  2.58848190e-01 -2.70319462e-01 -1.78827830e-02\n",
      "  1.85156867e-01 -2.07786337e-01 -2.09825367e-01  1.44542754e-02\n",
      "  1.47575378e-01 -2.94235438e-01 -1.02694780e-01 -1.15916282e-01\n",
      " -3.88665676e-01 -6.61985949e-03 -5.88770360e-02  5.00992872e-02\n",
      "  1.26971900e-02  3.72619987e-01  1.70950204e-01  7.78133050e-02\n",
      "  1.08024038e-01  5.78513801e-01  3.55751574e-01  1.22715428e-01\n",
      "  5.61785996e-01  2.69930452e-01  1.56431153e-01 -4.04793888e-01\n",
      "  3.41488123e-02 -1.51469171e-01  1.30241096e-01  3.79976332e-02\n",
      "  6.50689006e-01 -4.61058170e-02  3.84404287e-02  5.16915739e-01\n",
      "  3.92722376e-02 -3.01467240e-01 -3.49957258e-01  9.68751311e-02\n",
      "  1.57411814e-01 -9.41087976e-02  4.77881312e-01  5.61160445e-01\n",
      " -1.69676870e-01 -8.57966661e-01  2.03829557e-01  5.05450189e-01\n",
      " -1.97180927e-01  9.55369100e-02  2.56983757e-01 -2.26567656e-01\n",
      " -8.05601031e-02 -2.73649842e-01 -2.75220722e-04 -3.32848132e-01\n",
      " -3.67146194e-01  2.52246618e-01 -2.74958938e-01 -3.75669569e-01\n",
      " -1.46339118e-01  1.38646632e-01  9.28810477e-01 -4.30019200e-01\n",
      " -5.09932339e-02 -2.33398564e-02  2.87562311e-01  3.63836974e-01\n",
      "  5.90665579e-01  3.30349982e-01 -1.68174222e-01  4.22297940e-02\n",
      " -3.66359919e-01 -2.32332706e-01 -2.42654324e-01  2.54807889e-01\n",
      "  2.60125473e-02  4.29003872e-02  1.87760293e-01 -2.54051358e-01\n",
      " -4.11960512e-01  4.33568507e-01  1.43641025e-01 -8.07790235e-02\n",
      "  3.18761498e-01 -2.41775751e-01 -1.05825942e-02 -2.61118531e-01\n",
      "  3.77801359e-01  2.97765374e-01 -4.01707709e-01  3.47581804e-01\n",
      "  6.66913629e-01  4.75647807e-01 -3.25758636e-01  2.71835744e-01\n",
      " -3.45734414e-03  1.32095739e-01 -2.42890432e-01 -4.13096100e-01\n",
      "  4.00808118e-02  3.48892897e-01 -1.11079440e-02  3.12852800e-01\n",
      "  1.14954695e-01 -3.56448293e-01 -3.06035489e-01  2.11811423e-01\n",
      " -4.54355031e-01  1.54482216e-01  7.21193850e-02  6.95622563e-01\n",
      "  2.33757287e-01 -6.23275757e-01  2.81370394e-02 -4.91281211e-01\n",
      "  4.47953731e-01  1.30737752e-01  6.66177094e-01  1.19880974e-01\n",
      " -2.38818616e-01  4.19119716e-01 -8.70583773e-01  4.62794393e-01\n",
      " -3.93060744e-02 -8.28796439e-03 -2.83347428e-01  4.54829782e-02\n",
      " -2.08005339e-01  1.09635092e-01 -1.29533961e-01 -2.30967700e-01\n",
      "  1.34914607e-01  3.27618688e-01  5.78583926e-02  2.99707502e-01\n",
      " -8.38035196e-02 -4.65744771e-02 -6.90200031e-01 -4.82673854e-01\n",
      " -3.50040704e-01 -4.14255410e-02  2.26413861e-01  1.09385438e-01\n",
      "  9.02350992e-02 -1.50608301e-01  3.93430561e-01  2.63193846e-01]\n"
     ]
    }
   ],
   "source": [
    "# ví dụ\n",
    "enc = model.encode('xin chào')\n",
    "print(enc.shape)\n",
    "print(enc)"
   ]
  },
  {
   "cell_type": "code",
   "execution_count": 13,
   "metadata": {
    "colab": {
     "base_uri": "https://localhost:8080/",
     "height": 49,
     "referenced_widgets": [
      "866c9bed36bb457799cdfe7f47bf5d90",
      "79c0dda0aa264d97982bb3036303cc25",
      "e67df86118a04e34b4e8ef909f34c7e7",
      "9f92526003b841b28f042232e86689fb",
      "4edb25faa4014473a291d33400c44f68",
      "f683f291d0a54cc38aed80af796992f4",
      "7ef5f74292234ba79cb4894d73371f19",
      "caf7facec6554a6cbd225667de236f37",
      "f4ae9b69ce7d4124a087c88fdf1cd6a0",
      "de5601d638d84615a6eeb4551bf21b6d",
      "a88fe5e3f8764121bc5edb5c8924e33b"
     ]
    },
    "execution": {
     "iopub.execute_input": "2024-08-25T14:26:42.731127Z",
     "iopub.status.busy": "2024-08-25T14:26:42.730979Z",
     "iopub.status.idle": "2024-08-25T14:26:51.614026Z",
     "shell.execute_reply": "2024-08-25T14:26:51.613623Z"
    },
    "id": "gEnJBwszIewO",
    "outputId": "b7702d26-74bc-4ad5-82c0-3c438470fada"
   },
   "outputs": [
    {
     "data": {
      "application/vnd.jupyter.widget-view+json": {
       "model_id": "c21ee7242b9f4fcea75661d5c7301216",
       "version_major": 2,
       "version_minor": 0
      },
      "text/plain": [
       "Encoding articles :   0%|          | 0/423 [00:00<?, ?article/s]"
      ]
     },
     "metadata": {},
     "output_type": "display_data"
    }
   ],
   "source": [
    "# Tạo vector biểu diễn cho từng bài báo với tiến độ\n",
    "economics_embeddings = []\n",
    "\n",
    "for content in tqdm(texts, desc=f\"Encoding articles \", unit='article'):\n",
    "    embedding = model.encode(content)\n",
    "    economics_embeddings.append(embedding)"
   ]
  },
  {
   "cell_type": "markdown",
   "metadata": {
    "id": "IQN9bl-DgWgF"
   },
   "source": [
    "## Chạy các thuật toán phân cụm"
   ]
  },
  {
   "cell_type": "markdown",
   "metadata": {
    "id": "4y8VtGmNgdTc"
   },
   "source": [
    "### Hàm đánh giá chất lượng phân cụm"
   ]
  },
  {
   "cell_type": "code",
   "execution_count": 14,
   "metadata": {
    "execution": {
     "iopub.execute_input": "2024-08-25T14:26:51.615851Z",
     "iopub.status.busy": "2024-08-25T14:26:51.615683Z",
     "iopub.status.idle": "2024-08-25T14:26:51.647302Z",
     "shell.execute_reply": "2024-08-25T14:26:51.646915Z"
    },
    "id": "gF1fZjo2f-hy"
   },
   "outputs": [],
   "source": [
    "import warnings\n",
    "from sklearn.cluster import KMeans, AgglomerativeClustering, DBSCAN\n",
    "from sklearn.mixture import GaussianMixture\n",
    "from sklearn.metrics import silhouette_score, davies_bouldin_score, calinski_harabasz_score\n",
    "import numpy as np\n",
    "\n",
    "# Tắt tất cả các cảnh báo FutureWarning\n",
    "warnings.simplefilter(action='ignore', category=FutureWarning)\n",
    "\n",
    "def evaluate_clustering(embeddings, labels, model=None):\n",
    "    sil_score = silhouette_score(embeddings, labels)\n",
    "    db_score = davies_bouldin_score(embeddings, labels)\n",
    "    ch_score = calinski_harabasz_score(embeddings, labels)\n",
    "\n",
    "    # Tính WCSS nếu có model KMeans\n",
    "    wcss = None\n",
    "    if model and hasattr(model, 'inertia_'):\n",
    "        wcss = model.inertia_\n",
    "\n",
    "    return sil_score, db_score, ch_score, wcss"
   ]
  },
  {
   "cell_type": "markdown",
   "metadata": {
    "id": "cXvh4e3UggXA"
   },
   "source": [
    "### Hàm chạy thuật toán phân cụm và đánh giá chất lượng phân cụm"
   ]
  },
  {
   "cell_type": "code",
   "execution_count": 15,
   "metadata": {
    "execution": {
     "iopub.execute_input": "2024-08-25T14:26:51.649033Z",
     "iopub.status.busy": "2024-08-25T14:26:51.648840Z",
     "iopub.status.idle": "2024-08-25T14:26:51.652112Z",
     "shell.execute_reply": "2024-08-25T14:26:51.651690Z"
    },
    "id": "pU5czmD4NhIz"
   },
   "outputs": [],
   "source": [
    "# Chạy và đánh giá chất lượng phân cụm\n",
    "def cluster_and_evaluate(embeddings, n_clusters_list):\n",
    "    results = {n: {} for n in n_clusters_list}\n",
    "\n",
    "    for n_clusters in tqdm(n_clusters_list, desc=\"Clustering and evaluating\"):\n",
    "        # K-means\n",
    "        kmeans = KMeans(n_clusters=n_clusters, random_state=42).fit(embeddings)\n",
    "        kmeans_labels = kmeans.labels_\n",
    "        results[n_clusters]['kmeans'] = evaluate_clustering(embeddings, kmeans_labels, model=kmeans)\n",
    "\n",
    "        # EM (GMM)\n",
    "        gmm = GaussianMixture(n_components=n_clusters, random_state=42).fit(embeddings)\n",
    "        gmm_labels = gmm.predict(embeddings)\n",
    "        results[n_clusters]['gmm'] = evaluate_clustering(embeddings, gmm_labels)\n",
    "\n",
    "        # Hierarchical Clustering\n",
    "        hier = AgglomerativeClustering(n_clusters=n_clusters).fit(embeddings)\n",
    "        hier_labels = hier.labels_\n",
    "        results[n_clusters]['hierarchical'] = evaluate_clustering(embeddings, hier_labels)\n",
    "\n",
    "\n",
    "    return results"
   ]
  },
  {
   "cell_type": "markdown",
   "metadata": {
    "id": "yjBzTEbFpz86"
   },
   "source": [
    "### Chạy thuật các thuật toán phân cụm"
   ]
  },
  {
   "cell_type": "code",
   "execution_count": 16,
   "metadata": {
    "execution": {
     "iopub.execute_input": "2024-08-25T14:26:51.653672Z",
     "iopub.status.busy": "2024-08-25T14:26:51.653514Z",
     "iopub.status.idle": "2024-08-25T14:26:51.655488Z",
     "shell.execute_reply": "2024-08-25T14:26:51.655178Z"
    },
    "id": "ROzXzg5ZjDTo"
   },
   "outputs": [],
   "source": [
    "# # Khởi tạo từ điển để ưu kết quả\n",
    "cluster_results = {}"
   ]
  },
  {
   "cell_type": "code",
   "execution_count": 17,
   "metadata": {
    "execution": {
     "iopub.execute_input": "2024-08-25T14:26:51.656989Z",
     "iopub.status.busy": "2024-08-25T14:26:51.656725Z",
     "iopub.status.idle": "2024-08-25T14:26:51.659956Z",
     "shell.execute_reply": "2024-08-25T14:26:51.659659Z"
    },
    "id": "O_VMsd-Qtuhu"
   },
   "outputs": [
    {
     "name": "stdout",
     "output_type": "stream",
     "text": [
      "File exists!\n"
     ]
    }
   ],
   "source": [
    "FLAG = 0\n",
    "try:\n",
    "    with open(\"flag.txt\", \"r\") as f:\n",
    "      print(\"File exists!\")\n",
    "except IOError:\n",
    "    with open(\"flag.txt\", \"w\") as f:\n",
    "        f.write(\"0\")\n",
    "finally:\n",
    "    with open(\"flag.txt\", \"r\") as f:\n",
    "        FLAG = int(f.read())"
   ]
  },
  {
   "cell_type": "code",
   "execution_count": 18,
   "metadata": {
    "colab": {
     "base_uri": "https://localhost:8080/",
     "height": 49,
     "referenced_widgets": [
      "aa0ea347a2ab4a9f993f5fb1c5ef3dcd",
      "cb13929d0fbd49e69f28c8a6f763b7fb",
      "e3ecaa5aebc84a038a5936f51d778a44",
      "9110749625e9437a8d1157d222b6377c",
      "33cf70a9f9f14c688aa1b3ffc1ca8133",
      "488db19493654ced85a24de16251f190",
      "dcb29376967d4f8c9ebe7092a0ec3a79",
      "afcf8c77d6254977a3db9cb584540f28",
      "60f30e7216514beab64c82dc07429ab0",
      "4f57a2b0d65740738ea8dcd606493940",
      "6b57602a08de45159cf8bd2e1fa8609b"
     ]
    },
    "execution": {
     "iopub.execute_input": "2024-08-25T14:26:51.661476Z",
     "iopub.status.busy": "2024-08-25T14:26:51.661250Z",
     "iopub.status.idle": "2024-08-25T14:39:15.879886Z",
     "shell.execute_reply": "2024-08-25T14:39:15.879425Z"
    },
    "id": "8ybguq7dOSF6",
    "outputId": "3ba6172c-df14-4d38-b8e1-99c8380cf0d9"
   },
   "outputs": [
    {
     "data": {
      "application/vnd.jupyter.widget-view+json": {
       "model_id": "c9a7383ee2d149a58b44c6c8346735ad",
       "version_major": 2,
       "version_minor": 0
      },
      "text/plain": [
       "Clustering and evaluating:   0%|          | 0/98 [00:00<?, ?it/s]"
      ]
     },
     "metadata": {},
     "output_type": "display_data"
    }
   ],
   "source": [
    "if FLAG == 0:\n",
    "  n_clusters_list = range(2, 100)\n",
    "  n_clusters_to_run = [n for n in n_clusters_list if n not in cluster_results]\n",
    "\n",
    "  # Chạy phân cụm và đánh giá với các giá trị n_clusters mới\n",
    "  if n_clusters_to_run:\n",
    "      new_cluster_results = cluster_and_evaluate(economics_embeddings, n_clusters_to_run)\n",
    "      # Hợp nhất kết quả mới vào kết quả cũ\n",
    "      cluster_results.update(new_cluster_results)\n",
    "  else:\n",
    "      print(\"All n_clusters in the list have already been evaluated.\")"
   ]
  },
  {
   "cell_type": "code",
   "execution_count": 19,
   "metadata": {
    "execution": {
     "iopub.execute_input": "2024-08-25T14:39:15.883269Z",
     "iopub.status.busy": "2024-08-25T14:39:15.883053Z",
     "iopub.status.idle": "2024-08-25T14:39:15.885588Z",
     "shell.execute_reply": "2024-08-25T14:39:15.885069Z"
    },
    "id": "DZbZZNBgtuoA"
   },
   "outputs": [],
   "source": [
    "for i in range(2,100): \n",
    "  if i not in cluster_results: cluster_results[i] = {}"
   ]
  },
  {
   "cell_type": "code",
   "execution_count": 20,
   "metadata": {
    "execution": {
     "iopub.execute_input": "2024-08-25T14:39:15.887722Z",
     "iopub.status.busy": "2024-08-25T14:39:15.887481Z",
     "iopub.status.idle": "2024-08-25T14:39:15.893537Z",
     "shell.execute_reply": "2024-08-25T14:39:15.893151Z"
    },
    "id": "4rq0XF8puonc"
   },
   "outputs": [],
   "source": [
    "for i in range(2,100): \n",
    "  try: cluster_results[i].pop('dbscan')\n",
    "  except: pass"
   ]
  },
  {
   "cell_type": "markdown",
   "metadata": {},
   "source": [
    "### Tìm tham số phù hợp cho DBSCAN để nó có thể output ra số lượng cụm khác nhau"
   ]
  },
  {
   "cell_type": "markdown",
   "metadata": {},
   "source": [
    "Do binary search to find (theoretically) all possible number of clusters. "
   ]
  },
  {
   "cell_type": "code",
   "execution_count": 21,
   "metadata": {
    "execution": {
     "iopub.execute_input": "2024-08-25T14:39:15.899506Z",
     "iopub.status.busy": "2024-08-25T14:39:15.896766Z",
     "iopub.status.idle": "2024-08-25T14:39:49.995982Z",
     "shell.execute_reply": "2024-08-25T14:39:49.995596Z"
    },
    "id": "MsNmpvIUgt6Q"
   },
   "outputs": [
    {
     "name": "stdout",
     "output_type": "stream",
     "text": [
      "num_labels: 3, min_samples: 2, epsilon: 5.856922388076782\n"
     ]
    },
    {
     "name": "stdout",
     "output_type": "stream",
     "text": [
      "num_labels: 4, min_samples: 2, epsilon: 5.4961087703704825\n"
     ]
    },
    {
     "name": "stdout",
     "output_type": "stream",
     "text": [
      "num_labels: 5, min_samples: 2, epsilon: 5.425132513046264\n"
     ]
    },
    {
     "name": "stdout",
     "output_type": "stream",
     "text": [
      "num_labels: 6, min_samples: 2, epsilon: 5.396962881088256\n"
     ]
    },
    {
     "name": "stdout",
     "output_type": "stream",
     "text": [
      "num_labels: 7, min_samples: 2, epsilon: 5.33256697654724\n"
     ]
    },
    {
     "name": "stdout",
     "output_type": "stream",
     "text": [
      "num_labels: 8, min_samples: 2, epsilon: 5.325943708419799\n"
     ]
    },
    {
     "name": "stdout",
     "output_type": "stream",
     "text": [
      "num_labels: 9, min_samples: 2, epsilon: 5.305421590805053\n"
     ]
    }
   ],
   "source": [
    "if FLAG == 0:\n",
    "  embeddings = economics_embeddings\n",
    "  for min_samples in range(2,26):\n",
    "      last_clusters = 1\n",
    "      while last_clusters < 100:\n",
    "        low = 10**(-6)\n",
    "        high = 50\n",
    "        num_iters = 75\n",
    "        opt_eps = -1\n",
    "        for _ in range(num_iters):\n",
    "          mid = (low + high) / 2\n",
    "          dens = DBSCAN(eps=mid, min_samples=min_samples).fit(embeddings)\n",
    "          dens_labels = dens.fit_predict(embeddings)\n",
    "          n_clusters = len(set(dens_labels)) - (1 if -1 in dens_labels else 0)\n",
    "          if n_clusters <= last_clusters: high = mid\n",
    "          else: low, opt_eps = mid,mid\n",
    "        if opt_eps == -1: break\n",
    "        dens = DBSCAN(eps=opt_eps, min_samples=min_samples).fit(embeddings)\n",
    "        dens_labels = dens.fit_predict(embeddings)\n",
    "        n_clusters = len(set(dens_labels)) - (1 if -1 in dens_labels else 0)\n",
    "        if cluster_results[n_clusters].get('dbscan') is None:\n",
    "          print(f\"num_labels: {len(set(dens_labels))}, min_samples: {min_samples}, epsilon: {opt_eps}\")\n",
    "          cluster_results[n_clusters]['dbscan'] = evaluate_clustering(embeddings, dens_labels)\n",
    "        last_clusters = n_clusters"
   ]
  },
  {
   "cell_type": "markdown",
   "metadata": {},
   "source": [
    "If the monotonicity assumption is incorrect"
   ]
  },
  {
   "cell_type": "code",
   "execution_count": 22,
   "metadata": {
    "execution": {
     "iopub.execute_input": "2024-08-25T14:39:49.998433Z",
     "iopub.status.busy": "2024-08-25T14:39:49.998203Z",
     "iopub.status.idle": "2024-08-25T14:44:26.471988Z",
     "shell.execute_reply": "2024-08-25T14:44:26.471506Z"
    }
   },
   "outputs": [
    {
     "name": "stdout",
     "output_type": "stream",
     "text": [
      "num_labels: 10, min_samples: 2, epsilon: 3.1699999999999964\n"
     ]
    },
    {
     "name": "stdout",
     "output_type": "stream",
     "text": [
      "num_labels: 11, min_samples: 2, epsilon: 3.239999999999995\n",
      "num_labels: 12, min_samples: 2, epsilon: 3.2499999999999947\n"
     ]
    },
    {
     "name": "stdout",
     "output_type": "stream",
     "text": [
      "num_labels: 13, min_samples: 2, epsilon: 3.4099999999999913\n",
      "num_labels: 14, min_samples: 2, epsilon: 3.45999999999999\n"
     ]
    },
    {
     "name": "stdout",
     "output_type": "stream",
     "text": [
      "num_labels: 15, min_samples: 2, epsilon: 3.509999999999989\n",
      "num_labels: 16, min_samples: 2, epsilon: 3.559999999999988\n"
     ]
    },
    {
     "name": "stdout",
     "output_type": "stream",
     "text": [
      "num_labels: 17, min_samples: 2, epsilon: 3.599999999999987\n",
      "num_labels: 18, min_samples: 2, epsilon: 3.6399999999999864\n"
     ]
    },
    {
     "name": "stdout",
     "output_type": "stream",
     "text": [
      "num_labels: 20, min_samples: 2, epsilon: 3.7699999999999836\n"
     ]
    },
    {
     "name": "stdout",
     "output_type": "stream",
     "text": [
      "num_labels: 19, min_samples: 2, epsilon: 3.839999999999982\n"
     ]
    },
    {
     "name": "stdout",
     "output_type": "stream",
     "text": [
      "num_labels: 21, min_samples: 2, epsilon: 3.9199999999999804\n"
     ]
    },
    {
     "name": "stdout",
     "output_type": "stream",
     "text": [
      "num_labels: 22, min_samples: 2, epsilon: 4.019999999999978\n",
      "num_labels: 23, min_samples: 2, epsilon: 4.059999999999977\n"
     ]
    },
    {
     "name": "stdout",
     "output_type": "stream",
     "text": [
      "num_labels: 24, min_samples: 2, epsilon: 4.179999999999975\n",
      "num_labels: 25, min_samples: 2, epsilon: 4.189999999999975\n"
     ]
    },
    {
     "name": "stdout",
     "output_type": "stream",
     "text": [
      "num_labels: 26, min_samples: 2, epsilon: 4.229999999999974\n"
     ]
    },
    {
     "name": "stdout",
     "output_type": "stream",
     "text": [
      "num_labels: 28, min_samples: 2, epsilon: 4.38999999999997\n"
     ]
    },
    {
     "name": "stdout",
     "output_type": "stream",
     "text": [
      "num_labels: 29, min_samples: 2, epsilon: 4.459999999999969\n",
      "num_labels: 30, min_samples: 2, epsilon: 4.4799999999999685\n"
     ]
    },
    {
     "name": "stdout",
     "output_type": "stream",
     "text": [
      "num_labels: 31, min_samples: 2, epsilon: 4.499999999999968\n",
      "num_labels: 32, min_samples: 2, epsilon: 4.549999999999967\n"
     ]
    },
    {
     "name": "stdout",
     "output_type": "stream",
     "text": [
      "num_labels: 33, min_samples: 2, epsilon: 4.5699999999999665\n",
      "num_labels: 34, min_samples: 2, epsilon: 4.579999999999966\n"
     ]
    },
    {
     "name": "stdout",
     "output_type": "stream",
     "text": [
      "num_labels: 35, min_samples: 2, epsilon: 4.6199999999999655\n",
      "num_labels: 36, min_samples: 2, epsilon: 4.629999999999965\n"
     ]
    },
    {
     "name": "stdout",
     "output_type": "stream",
     "text": [
      "num_labels: 37, min_samples: 2, epsilon: 4.639999999999965\n"
     ]
    },
    {
     "name": "stdout",
     "output_type": "stream",
     "text": [
      "num_labels: 39, min_samples: 2, epsilon: 4.699999999999964\n",
      "num_labels: 38, min_samples: 2, epsilon: 4.7099999999999635\n"
     ]
    },
    {
     "name": "stdout",
     "output_type": "stream",
     "text": [
      "num_labels: 27, min_samples: 2, epsilon: 4.979999999999958\n"
     ]
    }
   ],
   "source": [
    "if FLAG == 0:\n",
    "  embeddings = economics_embeddings\n",
    "  for min_samples in range(2,26):\n",
    "      STEP = 10**-2\n",
    "      eps = 3 - STEP\n",
    "      while eps <= 10:\n",
    "        eps += STEP\n",
    "        dens = DBSCAN(eps=eps, min_samples=min_samples).fit(embeddings)\n",
    "        dens_labels = dens.fit_predict(embeddings)\n",
    "        n_clusters = len(set(dens_labels)) - (1 if -1 in dens_labels else 0)\n",
    "        if 2 <= n_clusters < 100: \n",
    "            if cluster_results[n_clusters].get('dbscan') is None:\n",
    "                print(f\"num_labels: {len(set(dens_labels))}, min_samples: {min_samples}, epsilon: {eps}\")\n",
    "                cluster_results[n_clusters]['dbscan'] = evaluate_clustering(embeddings, dens_labels)"
   ]
  },
  {
   "cell_type": "code",
   "execution_count": 23,
   "metadata": {
    "colab": {
     "base_uri": "https://localhost:8080/",
     "height": 332
    },
    "execution": {
     "iopub.execute_input": "2024-08-25T14:44:26.473987Z",
     "iopub.status.busy": "2024-08-25T14:44:26.473810Z",
     "iopub.status.idle": "2024-08-25T14:44:26.826925Z",
     "shell.execute_reply": "2024-08-25T14:44:26.826587Z"
    },
    "id": "lZfTZ8rmsDXZ",
    "outputId": "ed9741aa-f05c-4d4f-9765-ccaf76c399b3"
   },
   "outputs": [
    {
     "data": {
      "image/png": "[encoded data removed]",
      "text/plain": [
       "<Figure size 1500x500 with 3 Axes>"
      ]
     },
     "metadata": {},
     "output_type": "display_data"
    }
   ],
   "source": [
    "# prompt: plot for dbscan\n",
    "try:\n",
    "# Vẽ biểu đồ đánh giá DBSCAN\n",
    "  dbscan_results = {n: result.get('dbscan') for n, result in cluster_results.items() if result.get('dbscan') is not None}\n",
    "\n",
    "  # Lấy ra các giá trị số liệu\n",
    "  n_clusters_dbscan = list(dbscan_results.keys())\n",
    "  sil_scores_dbscan = [result[0] for result in dbscan_results.values()]\n",
    "  db_scores_dbscan = [result[1] for result in dbscan_results.values()]\n",
    "  ch_scores_dbscan = [result[2] for result in dbscan_results.values()]\n",
    "\n",
    "  # Vẽ biểu đồ\n",
    "  fig, axs = plt.subplots(1, 3, figsize=(15, 5))\n",
    "\n",
    "  axs[0].plot(n_clusters_dbscan, sil_scores_dbscan, marker='o')\n",
    "  axs[0].set_title('Silhouette Score (DBSCAN)')\n",
    "  axs[0].set_xlabel('Number of Clusters')\n",
    "  axs[0].set_ylabel('Score')\n",
    "\n",
    "  axs[1].plot(n_clusters_dbscan, db_scores_dbscan, marker='o')\n",
    "  axs[1].set_title('Davies-Bouldin Score (DBSCAN)')\n",
    "  axs[1].set_xlabel('Number of Clusters')\n",
    "  axs[1].set_ylabel('Score')\n",
    "\n",
    "  axs[2].plot(n_clusters_dbscan, ch_scores_dbscan, marker='o')\n",
    "  axs[2].set_title('Calinski-Harabasz Score (DBSCAN)')\n",
    "  axs[2].set_xlabel('Number of Clusters')\n",
    "  axs[2].set_ylabel('Score')\n",
    "\n",
    "  plt.tight_layout()\n",
    "  plt.savefig('dbscan_evaluation_results.png')\n",
    "  plt.show()\n",
    "except:\n",
    "  pass\n"
   ]
  },
  {
   "cell_type": "markdown",
   "metadata": {
    "id": "ROoKp7Upg0kw"
   },
   "source": [
    "### Vẽ biểu đồ"
   ]
  },
  {
   "cell_type": "code",
   "execution_count": 24,
   "metadata": {
    "colab": {
     "base_uri": "https://localhost:8080/",
     "height": 300
    },
    "execution": {
     "iopub.execute_input": "2024-08-25T14:44:26.828659Z",
     "iopub.status.busy": "2024-08-25T14:44:26.828493Z",
     "iopub.status.idle": "2024-08-25T14:44:27.278990Z",
     "shell.execute_reply": "2024-08-25T14:44:27.278626Z"
    },
    "id": "kRIGvhlHESxO",
    "outputId": "8278c894-cab2-4cf6-fd0a-7c3dc8499b25"
   },
   "outputs": [
    {
     "data": {
      "image/png": "[encoded data removed]",
      "text/plain": [
       "<Figure size 1800x600 with 3 Axes>"
      ]
     },
     "metadata": {},
     "output_type": "display_data"
    }
   ],
   "source": [
    "# Hàm vẽ biểu đồ kết quả đánh giá\n",
    "def plot_evaluation_results(metrics_dict):\n",
    "    n_clusters_list = sorted(metrics_dict.keys())\n",
    "\n",
    "    algorithms = ['kmeans', 'gmm', 'hierarchical', 'dbscan']\n",
    "    metrics = ['Silhouette Score', 'Davies-Bouldin Index', 'Calinski-Harabasz Index']\n",
    "\n",
    "    fig, axs = plt.subplots(1, 3, figsize=(18, 6), sharex=True, sharey=False)\n",
    "\n",
    "    for i, metric in enumerate(metrics):\n",
    "        ax = axs[i]\n",
    "        y_limit = -100\n",
    "        for algo in algorithms:\n",
    "            indices = [n for n in n_clusters_list if metrics_dict[n].get(algo, -1) != -1]\n",
    "            scores = [metrics_dict[n][algo][i] for n in indices]\n",
    "            y_limit = max(y_limit, max(scores))\n",
    "            ax.plot(indices, scores, label=algo)\n",
    "\n",
    "        ax.set_title(metric)\n",
    "        ax.set_xlabel('Number of Clusters')\n",
    "        ax.set_ylabel('Score')\n",
    "        ax.legend()\n",
    "        ax.set_ylim(0, y_limit * 1.1)\n",
    "        \n",
    "    plt.tight_layout()\n",
    "    plt.savefig('evaluation_results.png')\n",
    "    plt.show()\n",
    "\n",
    "# Vẽ biểu đồ đánh giá\n",
    "if FLAG == 0:\n",
    "  plot_evaluation_results(cluster_results)"
   ]
  },
  {
   "cell_type": "code",
   "execution_count": 25,
   "metadata": {
    "colab": {
     "base_uri": "https://localhost:8080/",
     "height": 562
    },
    "execution": {
     "iopub.execute_input": "2024-08-25T14:44:27.281047Z",
     "iopub.status.busy": "2024-08-25T14:44:27.280824Z",
     "iopub.status.idle": "2024-08-25T14:44:27.555662Z",
     "shell.execute_reply": "2024-08-25T14:44:27.555339Z"
    },
    "id": "BoUDZ_afIHji",
    "outputId": "894c191b-bc7d-42c3-c634-81dc7efe850f"
   },
   "outputs": [
    {
     "data": {
      "image/png": "[encoded data removed]",
      "text/plain": [
       "<Figure size 1000x600 with 1 Axes>"
      ]
     },
     "metadata": {},
     "output_type": "display_data"
    }
   ],
   "source": [
    "# Vẽ đồ thị Elbow\n",
    "n_list = sorted(cluster_results.keys())\n",
    "indices = [n for n in n_list if cluster_results[n].get('kmeans', -1) != -1]\n",
    "scores = [cluster_results[n]['kmeans'][3] for n in indices]\n",
    "\n",
    "plt.figure(figsize=(10, 6))\n",
    "plt.plot(indices, scores, marker='o')\n",
    "plt.title('Elbow Method for Optimal k')\n",
    "plt.xlabel('Number of clusters')\n",
    "plt.ylabel('WCSS')\n",
    "plt.xticks(list(range(2,100,5)))\n",
    "plt.grid(True)\n",
    "plt.savefig('elbow_method.png')\n",
    "plt.show()"
   ]
  },
  {
   "cell_type": "markdown",
   "metadata": {
    "id": "oAif9gzqtH9N"
   },
   "source": [
    "### Lưu trữ các model đã training"
   ]
  },
  {
   "cell_type": "code",
   "execution_count": 26,
   "metadata": {
    "execution": {
     "iopub.execute_input": "2024-08-25T14:44:27.557240Z",
     "iopub.status.busy": "2024-08-25T14:44:27.557063Z",
     "iopub.status.idle": "2024-08-25T14:44:27.559353Z",
     "shell.execute_reply": "2024-08-25T14:44:27.558969Z"
    },
    "id": "N1B968DRvTko"
   },
   "outputs": [],
   "source": [
    "if FLAG == 0:\n",
    "  with open(\"flag.txt\", \"w\") as f:\n",
    "      f.write(\"1\")"
   ]
  },
  {
   "cell_type": "markdown",
   "metadata": {
    "id": "9hYINw2FpRnN"
   },
   "source": [
    "### Huấn luyện với số lượng cụm và thuật toán tối ưu"
   ]
  },
  {
   "cell_type": "code",
   "execution_count": 27,
   "metadata": {
    "execution": {
     "iopub.execute_input": "2024-08-25T14:44:27.560867Z",
     "iopub.status.busy": "2024-08-25T14:44:27.560701Z",
     "iopub.status.idle": "2024-08-25T14:44:27.562747Z",
     "shell.execute_reply": "2024-08-25T14:44:27.562478Z"
    },
    "id": "7sxWYYjPRRdy"
   },
   "outputs": [],
   "source": [
    "if FLAG == 1:\n",
    "  # Lựa chọn số cụm tối ưu\n",
    "  optimal_n_clusters = 50\n",
    "  # Lựa chọn model tối ưu\n",
    "  model = AgglomerativeClustering(n_clusters=optimal_n_clusters).fit(economics_embeddings)\n",
    "  labels = model.fit_predict(economics_embeddings)\n"
   ]
  },
  {
   "cell_type": "markdown",
   "metadata": {
    "id": "yziRU-bDp-Yj"
   },
   "source": [
    "### Minh họa việc phát hiện chủ đề\n",
    "\n",
    "---\n",
    "\n"
   ]
  },
  {
   "cell_type": "markdown",
   "metadata": {
    "id": "YMoGNKiBpXbr"
   },
   "source": [
    "Minh họa phân cụm trên không gian 2 chiều"
   ]
  },
  {
   "cell_type": "code",
   "execution_count": 28,
   "metadata": {
    "colab": {
     "base_uri": "https://localhost:8080/",
     "height": 718
    },
    "execution": {
     "iopub.execute_input": "2024-08-25T14:44:27.564259Z",
     "iopub.status.busy": "2024-08-25T14:44:27.564115Z",
     "iopub.status.idle": "2024-08-25T14:44:27.566969Z",
     "shell.execute_reply": "2024-08-25T14:44:27.566669Z"
    },
    "id": "SG1JJmlJEggM",
    "outputId": "567f8b66-2450-4520-cd7a-d2fee73ddf47"
   },
   "outputs": [],
   "source": [
    "from sklearn.decomposition import PCA\n",
    "if FLAG == 1:\n",
    "  # Áp dụng PCA để giảm chiều dữ liệu xuống 2 chiều\n",
    "  # Giảm chiều dữ liệu xuống 2D bằng PCA\n",
    "  pca = PCA(n_components=2)\n",
    "  reduced_embeddings = pca.fit_transform(economics_embeddings)\n",
    "\n",
    "  # Vẽ minh họa việc phân cụm trên đồ thị 2D\n",
    "  plt.figure(figsize=(10, 8))\n",
    "  scatter = plt.scatter(reduced_embeddings[:, 0], reduced_embeddings[:, 1], c=labels, cmap='viridis', marker='o', s=50)\n",
    "  plt.colorbar(scatter, label='Cluster')\n",
    "  plt.title('2D Visualization of Clustering for Economics Articles')\n",
    "  plt.xlabel('PCA Feature 1')\n",
    "  plt.ylabel('PCA Feature 2')\n",
    "  plt.savefig('2d_visualization.png')\n",
    "  plt.show()"
   ]
  },
  {
   "cell_type": "markdown",
   "metadata": {
    "id": "bIM9kwRCpbe5"
   },
   "source": [
    "Minh họa việc phát hiện chủ đề"
   ]
  },
  {
   "cell_type": "code",
   "execution_count": 29,
   "metadata": {
    "colab": {
     "base_uri": "https://localhost:8080/"
    },
    "execution": {
     "iopub.execute_input": "2024-08-25T14:44:27.568370Z",
     "iopub.status.busy": "2024-08-25T14:44:27.568224Z",
     "iopub.status.idle": "2024-08-25T14:44:27.571127Z",
     "shell.execute_reply": "2024-08-25T14:44:27.570731Z"
    },
    "id": "xDVOpQBIEiHp",
    "outputId": "dec1445e-3172-4278-a8ac-f6da3586702e"
   },
   "outputs": [],
   "source": [
    "# Thay `chosen_cluster` bằng số cụm bạn muốn kiểm tra, số bắt đầu từ 0 đến n_clusters - 1\n",
    "if FLAG == 1:\n",
    "  inspect_results = {}\n",
    "  for chosen_cluster in range(2,100):\n",
    "    # Lọc các bài báo thuộc cụm đã chọn\n",
    "    chosen_cluster_indices = [i for i, label in enumerate(labels) if label == chosen_cluster]\n",
    "    chosen_articles = [social_data[i] for i in chosen_cluster_indices]\n",
    "\n",
    "    # In ra nội dung của 3 bài báo đầu tiên trong cụm đã chọn\n",
    "    print(f\"Nội dung của 3 bài báo trong cụm {chosen_cluster}:\")\n",
    "    for i, article in enumerate(chosen_articles[:3]):\n",
    "        print(f\"Bài báo {i+1}:\")\n",
    "        print(article)\n",
    "        print(\"-\" * 80)\n",
    "    inspect_results[chosen_cluster] = chosen_articles\n",
    "  json.dump(inspect_results, open(\"inspect_results.json\", \"w\", encoding=\"utf-8\"))\n"
   ]
  }
 ],
 "metadata": {
  "accelerator": "GPU",
  "colab": {
   "gpuType": "T4",
   "provenance": [],
   "toc_visible": true
  },
  "kernelspec": {
   "display_name": "Python 3",
   "name": "python3"
  },
  "language_info": {
   "codemirror_mode": {
    "name": "ipython",
    "version": 3
   },
   "file_extension": ".py",
   "mimetype": "text/x-python",
   "name": "python",
   "nbconvert_exporter": "python",
   "pygments_lexer": "ipython3",
   "version": "3.10.12"
  },
  "widgets": {
   "application/vnd.jupyter.widget-state+json": {
    "state": {
     "0446e5836f3e46659fc8e8c14dcec846": {
      "model_module": "@jupyter-widgets/base",
      "model_module_version": "2.0.0",
      "model_name": "LayoutModel",
      "state": {
       "_model_module": "@jupyter-widgets/base",
       "_model_module_version": "2.0.0",
       "_model_name": "LayoutModel",
       "_view_count": null,
       "_view_module": "@jupyter-widgets/base",
       "_view_module_version": "2.0.0",
       "_view_name": "LayoutView",
       "align_content": null,
       "align_items": null,
       "align_self": null,
       "border_bottom": null,
       "border_left": null,
       "border_right": null,
       "border_top": null,
       "bottom": null,
       "display": null,
       "flex": null,
       "flex_flow": null,
       "grid_area": null,
       "grid_auto_columns": null,
       "grid_auto_flow": null,
       "grid_auto_rows": null,
       "grid_column": null,
       "grid_gap": null,
       "grid_row": null,
       "grid_template_areas": null,
       "grid_template_columns": null,
       "grid_template_rows": null,
       "height": null,
       "justify_content": null,
       "justify_items": null,
       "left": null,
       "margin": null,
       "max_height": null,
       "max_width": null,
       "min_height": null,
       "min_width": null,
       "object_fit": null,
       "object_position": null,
       "order": null,
       "overflow": null,
       "padding": null,
       "right": null,
       "top": null,
       "visibility": null,
       "width": null
      }
     },
     "11ec3142a2094d9c9e6d104b2cb3590c": {
      "model_module": "@jupyter-widgets/base",
      "model_module_version": "2.0.0",
      "model_name": "LayoutModel",
      "state": {
       "_model_module": "@jupyter-widgets/base",
       "_model_module_version": "2.0.0",
       "_model_name": "LayoutModel",
       "_view_count": null,
       "_view_module": "@jupyter-widgets/base",
       "_view_module_version": "2.0.0",
       "_view_name": "LayoutView",
       "align_content": null,
       "align_items": null,
       "align_self": null,
       "border_bottom": null,
       "border_left": null,
       "border_right": null,
       "border_top": null,
       "bottom": null,
       "display": null,
       "flex": null,
       "flex_flow": null,
       "grid_area": null,
       "grid_auto_columns": null,
       "grid_auto_flow": null,
       "grid_auto_rows": null,
       "grid_column": null,
       "grid_gap": null,
       "grid_row": null,
       "grid_template_areas": null,
       "grid_template_columns": null,
       "grid_template_rows": null,
       "height": null,
       "justify_content": null,
       "justify_items": null,
       "left": null,
       "margin": null,
       "max_height": null,
       "max_width": null,
       "min_height": null,
       "min_width": null,
       "object_fit": null,
       "object_position": null,
       "order": null,
       "overflow": null,
       "padding": null,
       "right": null,
       "top": null,
       "visibility": null,
       "width": null
      }
     },
     "1ad33a4b72894816a2a663d6a6b04259": {
      "model_module": "@jupyter-widgets/controls",
      "model_module_version": "2.0.0",
      "model_name": "HTMLModel",
      "state": {
       "_dom_classes": [],
       "_model_module": "@jupyter-widgets/controls",
       "_model_module_version": "2.0.0",
       "_model_name": "HTMLModel",
       "_view_count": null,
       "_view_module": "@jupyter-widgets/controls",
       "_view_module_version": "2.0.0",
       "_view_name": "HTMLView",
       "description": "",
       "description_allow_html": false,
       "layout": "IPY_MODEL_cdc0b08a0f7643b99a7be6457139362f",
       "placeholder": "​",
       "style": "IPY_MODEL_88d3ed899b4b4270bdf06e850fbf3125",
       "tabbable": null,
       "tooltip": null,
       "value": "Clustering and evaluating: 100%"
      }
     },
     "1c4dffe113b64c878b71d09ebaf8780b": {
      "model_module": "@jupyter-widgets/base",
      "model_module_version": "2.0.0",
      "model_name": "LayoutModel",
      "state": {
       "_model_module": "@jupyter-widgets/base",
       "_model_module_version": "2.0.0",
       "_model_name": "LayoutModel",
       "_view_count": null,
       "_view_module": "@jupyter-widgets/base",
       "_view_module_version": "2.0.0",
       "_view_name": "LayoutView",
       "align_content": null,
       "align_items": null,
       "align_self": null,
       "border_bottom": null,
       "border_left": null,
       "border_right": null,
       "border_top": null,
       "bottom": null,
       "display": null,
       "flex": null,
       "flex_flow": null,
       "grid_area": null,
       "grid_auto_columns": null,
       "grid_auto_flow": null,
       "grid_auto_rows": null,
       "grid_column": null,
       "grid_gap": null,
       "grid_row": null,
       "grid_template_areas": null,
       "grid_template_columns": null,
       "grid_template_rows": null,
       "height": null,
       "justify_content": null,
       "justify_items": null,
       "left": null,
       "margin": null,
       "max_height": null,
       "max_width": null,
       "min_height": null,
       "min_width": null,
       "object_fit": null,
       "object_position": null,
       "order": null,
       "overflow": null,
       "padding": null,
       "right": null,
       "top": null,
       "visibility": null,
       "width": null
      }
     },
     "21bd39c6b8f0469ba6ead1994c7da1f2": {
      "model_module": "@jupyter-widgets/controls",
      "model_module_version": "2.0.0",
      "model_name": "ProgressStyleModel",
      "state": {
       "_model_module": "@jupyter-widgets/controls",
       "_model_module_version": "2.0.0",
       "_model_name": "ProgressStyleModel",
       "_view_count": null,
       "_view_module": "@jupyter-widgets/base",
       "_view_module_version": "2.0.0",
       "_view_name": "StyleView",
       "bar_color": null,
       "description_width": ""
      }
     },
     "27e3396092bb4e94a7b4ddd83b648665": {
      "model_module": "@jupyter-widgets/base",
      "model_module_version": "2.0.0",
      "model_name": "LayoutModel",
      "state": {
       "_model_module": "@jupyter-widgets/base",
       "_model_module_version": "2.0.0",
       "_model_name": "LayoutModel",
       "_view_count": null,
       "_view_module": "@jupyter-widgets/base",
       "_view_module_version": "2.0.0",
       "_view_name": "LayoutView",
       "align_content": null,
       "align_items": null,
       "align_self": null,
       "border_bottom": null,
       "border_left": null,
       "border_right": null,
       "border_top": null,
       "bottom": null,
       "display": null,
       "flex": null,
       "flex_flow": null,
       "grid_area": null,
       "grid_auto_columns": null,
       "grid_auto_flow": null,
       "grid_auto_rows": null,
       "grid_column": null,
       "grid_gap": null,
       "grid_row": null,
       "grid_template_areas": null,
       "grid_template_columns": null,
       "grid_template_rows": null,
       "height": null,
       "justify_content": null,
       "justify_items": null,
       "left": null,
       "margin": null,
       "max_height": null,
       "max_width": null,
       "min_height": null,
       "min_width": null,
       "object_fit": null,
       "object_position": null,
       "order": null,
       "overflow": null,
       "padding": null,
       "right": null,
       "top": null,
       "visibility": null,
       "width": null
      }
     },
     "3d040818ec2a4474b13ddfb317c80681": {
      "model_module": "@jupyter-widgets/controls",
      "model_module_version": "2.0.0",
      "model_name": "HBoxModel",
      "state": {
       "_dom_classes": [],
       "_model_module": "@jupyter-widgets/controls",
       "_model_module_version": "2.0.0",
       "_model_name": "HBoxModel",
       "_view_count": null,
       "_view_module": "@jupyter-widgets/controls",
       "_view_module_version": "2.0.0",
       "_view_name": "HBoxView",
       "box_style": "",
       "children": [
        "IPY_MODEL_7ae5e5503c3f46258a56b8307d5e4117",
        "IPY_MODEL_6f05616425c44bab945b343771956af1",
        "IPY_MODEL_43c0a42f38184134a28f81a78db49d4a"
       ],
       "layout": "IPY_MODEL_11ec3142a2094d9c9e6d104b2cb3590c",
       "tabbable": null,
       "tooltip": null
      }
     },
     "3f3aed58018f47528bf13f9709f452c0": {
      "model_module": "@jupyter-widgets/base",
      "model_module_version": "2.0.0",
      "model_name": "LayoutModel",
      "state": {
       "_model_module": "@jupyter-widgets/base",
       "_model_module_version": "2.0.0",
       "_model_name": "LayoutModel",
       "_view_count": null,
       "_view_module": "@jupyter-widgets/base",
       "_view_module_version": "2.0.0",
       "_view_name": "LayoutView",
       "align_content": null,
       "align_items": null,
       "align_self": null,
       "border_bottom": null,
       "border_left": null,
       "border_right": null,
       "border_top": null,
       "bottom": null,
       "display": null,
       "flex": null,
       "flex_flow": null,
       "grid_area": null,
       "grid_auto_columns": null,
       "grid_auto_flow": null,
       "grid_auto_rows": null,
       "grid_column": null,
       "grid_gap": null,
       "grid_row": null,
       "grid_template_areas": null,
       "grid_template_columns": null,
       "grid_template_rows": null,
       "height": null,
       "justify_content": null,
       "justify_items": null,
       "left": null,
       "margin": null,
       "max_height": null,
       "max_width": null,
       "min_height": null,
       "min_width": null,
       "object_fit": null,
       "object_position": null,
       "order": null,
       "overflow": null,
       "padding": null,
       "right": null,
       "top": null,
       "visibility": null,
       "width": null
      }
     },
     "43c0a42f38184134a28f81a78db49d4a": {
      "model_module": "@jupyter-widgets/controls",
      "model_module_version": "2.0.0",
      "model_name": "HTMLModel",
      "state": {
       "_dom_classes": [],
       "_model_module": "@jupyter-widgets/controls",
       "_model_module_version": "2.0.0",
       "_model_name": "HTMLModel",
       "_view_count": null,
       "_view_module": "@jupyter-widgets/controls",
       "_view_module_version": "2.0.0",
       "_view_name": "HTMLView",
       "description": "",
       "description_allow_html": false,
       "layout": "IPY_MODEL_958a7264851b41feaf185f998f60bde4",
       "placeholder": "​",
       "style": "IPY_MODEL_96f83537a3384a9a934ad4d4ecce1a25",
       "tabbable": null,
       "tooltip": null,
       "value": " 423/423 [00:02&lt;00:00, 169.91it/s]"
      }
     },
     "517023ef77244c7cb8123e1b203f0281": {
      "model_module": "@jupyter-widgets/base",
      "model_module_version": "2.0.0",
      "model_name": "LayoutModel",
      "state": {
       "_model_module": "@jupyter-widgets/base",
       "_model_module_version": "2.0.0",
       "_model_name": "LayoutModel",
       "_view_count": null,
       "_view_module": "@jupyter-widgets/base",
       "_view_module_version": "2.0.0",
       "_view_name": "LayoutView",
       "align_content": null,
       "align_items": null,
       "align_self": null,
       "border_bottom": null,
       "border_left": null,
       "border_right": null,
       "border_top": null,
       "bottom": null,
       "display": null,
       "flex": null,
       "flex_flow": null,
       "grid_area": null,
       "grid_auto_columns": null,
       "grid_auto_flow": null,
       "grid_auto_rows": null,
       "grid_column": null,
       "grid_gap": null,
       "grid_row": null,
       "grid_template_areas": null,
       "grid_template_columns": null,
       "grid_template_rows": null,
       "height": null,
       "justify_content": null,
       "justify_items": null,
       "left": null,
       "margin": null,
       "max_height": null,
       "max_width": null,
       "min_height": null,
       "min_width": null,
       "object_fit": null,
       "object_position": null,
       "order": null,
       "overflow": null,
       "padding": null,
       "right": null,
       "top": null,
       "visibility": null,
       "width": null
      }
     },
     "5b7e7543f8c64e9785c42ff9e4e96b42": {
      "model_module": "@jupyter-widgets/base",
      "model_module_version": "2.0.0",
      "model_name": "LayoutModel",
      "state": {
       "_model_module": "@jupyter-widgets/base",
       "_model_module_version": "2.0.0",
       "_model_name": "LayoutModel",
       "_view_count": null,
       "_view_module": "@jupyter-widgets/base",
       "_view_module_version": "2.0.0",
       "_view_name": "LayoutView",
       "align_content": null,
       "align_items": null,
       "align_self": null,
       "border_bottom": null,
       "border_left": null,
       "border_right": null,
       "border_top": null,
       "bottom": null,
       "display": null,
       "flex": null,
       "flex_flow": null,
       "grid_area": null,
       "grid_auto_columns": null,
       "grid_auto_flow": null,
       "grid_auto_rows": null,
       "grid_column": null,
       "grid_gap": null,
       "grid_row": null,
       "grid_template_areas": null,
       "grid_template_columns": null,
       "grid_template_rows": null,
       "height": null,
       "justify_content": null,
       "justify_items": null,
       "left": null,
       "margin": null,
       "max_height": null,
       "max_width": null,
       "min_height": null,
       "min_width": null,
       "object_fit": null,
       "object_position": null,
       "order": null,
       "overflow": null,
       "padding": null,
       "right": null,
       "top": null,
       "visibility": null,
       "width": null
      }
     },
     "5ea165e36a9f49e3984b63e78fcc2151": {
      "model_module": "@jupyter-widgets/controls",
      "model_module_version": "2.0.0",
      "model_name": "HTMLModel",
      "state": {
       "_dom_classes": [],
       "_model_module": "@jupyter-widgets/controls",
       "_model_module_version": "2.0.0",
       "_model_name": "HTMLModel",
       "_view_count": null,
       "_view_module": "@jupyter-widgets/controls",
       "_view_module_version": "2.0.0",
       "_view_name": "HTMLView",
       "description": "",
       "description_allow_html": false,
       "layout": "IPY_MODEL_517023ef77244c7cb8123e1b203f0281",
       "placeholder": "​",
       "style": "IPY_MODEL_cf41f450d3364626b7cedb4437e7277e",
       "tabbable": null,
       "tooltip": null,
       "value": " 98/98 [12:24&lt;00:00, 13.17s/it]"
      }
     },
     "65ed87816bf741e1841f5f06d6a03b5c": {
      "model_module": "@jupyter-widgets/controls",
      "model_module_version": "2.0.0",
      "model_name": "ProgressStyleModel",
      "state": {
       "_model_module": "@jupyter-widgets/controls",
       "_model_module_version": "2.0.0",
       "_model_name": "ProgressStyleModel",
       "_view_count": null,
       "_view_module": "@jupyter-widgets/base",
       "_view_module_version": "2.0.0",
       "_view_name": "StyleView",
       "bar_color": null,
       "description_width": ""
      }
     },
     "686445470c364ea19eff7464d04199d9": {
      "model_module": "@jupyter-widgets/base",
      "model_module_version": "2.0.0",
      "model_name": "LayoutModel",
      "state": {
       "_model_module": "@jupyter-widgets/base",
       "_model_module_version": "2.0.0",
       "_model_name": "LayoutModel",
       "_view_count": null,
       "_view_module": "@jupyter-widgets/base",
       "_view_module_version": "2.0.0",
       "_view_name": "LayoutView",
       "align_content": null,
       "align_items": null,
       "align_self": null,
       "border_bottom": null,
       "border_left": null,
       "border_right": null,
       "border_top": null,
       "bottom": null,
       "display": null,
       "flex": null,
       "flex_flow": null,
       "grid_area": null,
       "grid_auto_columns": null,
       "grid_auto_flow": null,
       "grid_auto_rows": null,
       "grid_column": null,
       "grid_gap": null,
       "grid_row": null,
       "grid_template_areas": null,
       "grid_template_columns": null,
       "grid_template_rows": null,
       "height": null,
       "justify_content": null,
       "justify_items": null,
       "left": null,
       "margin": null,
       "max_height": null,
       "max_width": null,
       "min_height": null,
       "min_width": null,
       "object_fit": null,
       "object_position": null,
       "order": null,
       "overflow": null,
       "padding": null,
       "right": null,
       "top": null,
       "visibility": null,
       "width": null
      }
     },
     "68cd9c7068e743b8af0fc81de8d93d8c": {
      "model_module": "@jupyter-widgets/base",
      "model_module_version": "2.0.0",
      "model_name": "LayoutModel",
      "state": {
       "_model_module": "@jupyter-widgets/base",
       "_model_module_version": "2.0.0",
       "_model_name": "LayoutModel",
       "_view_count": null,
       "_view_module": "@jupyter-widgets/base",
       "_view_module_version": "2.0.0",
       "_view_name": "LayoutView",
       "align_content": null,
       "align_items": null,
       "align_self": null,
       "border_bottom": null,
       "border_left": null,
       "border_right": null,
       "border_top": null,
       "bottom": null,
       "display": null,
       "flex": null,
       "flex_flow": null,
       "grid_area": null,
       "grid_auto_columns": null,
       "grid_auto_flow": null,
       "grid_auto_rows": null,
       "grid_column": null,
       "grid_gap": null,
       "grid_row": null,
       "grid_template_areas": null,
       "grid_template_columns": null,
       "grid_template_rows": null,
       "height": null,
       "justify_content": null,
       "justify_items": null,
       "left": null,
       "margin": null,
       "max_height": null,
       "max_width": null,
       "min_height": null,
       "min_width": null,
       "object_fit": null,
       "object_position": null,
       "order": null,
       "overflow": null,
       "padding": null,
       "right": null,
       "top": null,
       "visibility": null,
       "width": null
      }
     },
     "6f05616425c44bab945b343771956af1": {
      "model_module": "@jupyter-widgets/controls",
      "model_module_version": "2.0.0",
      "model_name": "FloatProgressModel",
      "state": {
       "_dom_classes": [],
       "_model_module": "@jupyter-widgets/controls",
       "_model_module_version": "2.0.0",
       "_model_name": "FloatProgressModel",
       "_view_count": null,
       "_view_module": "@jupyter-widgets/controls",
       "_view_module_version": "2.0.0",
       "_view_name": "ProgressView",
       "bar_style": "success",
       "description": "",
       "description_allow_html": false,
       "layout": "IPY_MODEL_5b7e7543f8c64e9785c42ff9e4e96b42",
       "max": 423.0,
       "min": 0.0,
       "orientation": "horizontal",
       "style": "IPY_MODEL_8f1340253d44400091286f79fcf20f3e",
       "tabbable": null,
       "tooltip": null,
       "value": 423.0
      }
     },
     "7ae5e5503c3f46258a56b8307d5e4117": {
      "model_module": "@jupyter-widgets/controls",
      "model_module_version": "2.0.0",
      "model_name": "HTMLModel",
      "state": {
       "_dom_classes": [],
       "_model_module": "@jupyter-widgets/controls",
       "_model_module_version": "2.0.0",
       "_model_name": "HTMLModel",
       "_view_count": null,
       "_view_module": "@jupyter-widgets/controls",
       "_view_module_version": "2.0.0",
       "_view_name": "HTMLView",
       "description": "",
       "description_allow_html": false,
       "layout": "IPY_MODEL_686445470c364ea19eff7464d04199d9",
       "placeholder": "​",
       "style": "IPY_MODEL_dc305947910b4175a23cb8c61b87b88a",
       "tabbable": null,
       "tooltip": null,
       "value": "Processing articles: 100%"
      }
     },
     "7aeaeb14cdf94a45ba33b0eeb4857689": {
      "model_module": "@jupyter-widgets/base",
      "model_module_version": "2.0.0",
      "model_name": "LayoutModel",
      "state": {
       "_model_module": "@jupyter-widgets/base",
       "_model_module_version": "2.0.0",
       "_model_name": "LayoutModel",
       "_view_count": null,
       "_view_module": "@jupyter-widgets/base",
       "_view_module_version": "2.0.0",
       "_view_name": "LayoutView",
       "align_content": null,
       "align_items": null,
       "align_self": null,
       "border_bottom": null,
       "border_left": null,
       "border_right": null,
       "border_top": null,
       "bottom": null,
       "display": null,
       "flex": null,
       "flex_flow": null,
       "grid_area": null,
       "grid_auto_columns": null,
       "grid_auto_flow": null,
       "grid_auto_rows": null,
       "grid_column": null,
       "grid_gap": null,
       "grid_row": null,
       "grid_template_areas": null,
       "grid_template_columns": null,
       "grid_template_rows": null,
       "height": null,
       "justify_content": null,
       "justify_items": null,
       "left": null,
       "margin": null,
       "max_height": null,
       "max_width": null,
       "min_height": null,
       "min_width": null,
       "object_fit": null,
       "object_position": null,
       "order": null,
       "overflow": null,
       "padding": null,
       "right": null,
       "top": null,
       "visibility": null,
       "width": null
      }
     },
     "86d8d406d8ce42a4b77bc9dd75779621": {
      "model_module": "@jupyter-widgets/controls",
      "model_module_version": "2.0.0",
      "model_name": "HTMLStyleModel",
      "state": {
       "_model_module": "@jupyter-widgets/controls",
       "_model_module_version": "2.0.0",
       "_model_name": "HTMLStyleModel",
       "_view_count": null,
       "_view_module": "@jupyter-widgets/base",
       "_view_module_version": "2.0.0",
       "_view_name": "StyleView",
       "background": null,
       "description_width": "",
       "font_size": null,
       "text_color": null
      }
     },
     "88d3ed899b4b4270bdf06e850fbf3125": {
      "model_module": "@jupyter-widgets/controls",
      "model_module_version": "2.0.0",
      "model_name": "HTMLStyleModel",
      "state": {
       "_model_module": "@jupyter-widgets/controls",
       "_model_module_version": "2.0.0",
       "_model_name": "HTMLStyleModel",
       "_view_count": null,
       "_view_module": "@jupyter-widgets/base",
       "_view_module_version": "2.0.0",
       "_view_name": "StyleView",
       "background": null,
       "description_width": "",
       "font_size": null,
       "text_color": null
      }
     },
     "8a540d4755de42598e2d8b976b3c21cd": {
      "model_module": "@jupyter-widgets/controls",
      "model_module_version": "2.0.0",
      "model_name": "HTMLStyleModel",
      "state": {
       "_model_module": "@jupyter-widgets/controls",
       "_model_module_version": "2.0.0",
       "_model_name": "HTMLStyleModel",
       "_view_count": null,
       "_view_module": "@jupyter-widgets/base",
       "_view_module_version": "2.0.0",
       "_view_name": "StyleView",
       "background": null,
       "description_width": "",
       "font_size": null,
       "text_color": null
      }
     },
     "8f1340253d44400091286f79fcf20f3e": {
      "model_module": "@jupyter-widgets/controls",
      "model_module_version": "2.0.0",
      "model_name": "ProgressStyleModel",
      "state": {
       "_model_module": "@jupyter-widgets/controls",
       "_model_module_version": "2.0.0",
       "_model_name": "ProgressStyleModel",
       "_view_count": null,
       "_view_module": "@jupyter-widgets/base",
       "_view_module_version": "2.0.0",
       "_view_name": "StyleView",
       "bar_color": null,
       "description_width": ""
      }
     },
     "958a7264851b41feaf185f998f60bde4": {
      "model_module": "@jupyter-widgets/base",
      "model_module_version": "2.0.0",
      "model_name": "LayoutModel",
      "state": {
       "_model_module": "@jupyter-widgets/base",
       "_model_module_version": "2.0.0",
       "_model_name": "LayoutModel",
       "_view_count": null,
       "_view_module": "@jupyter-widgets/base",
       "_view_module_version": "2.0.0",
       "_view_name": "LayoutView",
       "align_content": null,
       "align_items": null,
       "align_self": null,
       "border_bottom": null,
       "border_left": null,
       "border_right": null,
       "border_top": null,
       "bottom": null,
       "display": null,
       "flex": null,
       "flex_flow": null,
       "grid_area": null,
       "grid_auto_columns": null,
       "grid_auto_flow": null,
       "grid_auto_rows": null,
       "grid_column": null,
       "grid_gap": null,
       "grid_row": null,
       "grid_template_areas": null,
       "grid_template_columns": null,
       "grid_template_rows": null,
       "height": null,
       "justify_content": null,
       "justify_items": null,
       "left": null,
       "margin": null,
       "max_height": null,
       "max_width": null,
       "min_height": null,
       "min_width": null,
       "object_fit": null,
       "object_position": null,
       "order": null,
       "overflow": null,
       "padding": null,
       "right": null,
       "top": null,
       "visibility": null,
       "width": null
      }
     },
     "96f83537a3384a9a934ad4d4ecce1a25": {
      "model_module": "@jupyter-widgets/controls",
      "model_module_version": "2.0.0",
      "model_name": "HTMLStyleModel",
      "state": {
       "_model_module": "@jupyter-widgets/controls",
       "_model_module_version": "2.0.0",
       "_model_name": "HTMLStyleModel",
       "_view_count": null,
       "_view_module": "@jupyter-widgets/base",
       "_view_module_version": "2.0.0",
       "_view_name": "StyleView",
       "background": null,
       "description_width": "",
       "font_size": null,
       "text_color": null
      }
     },
     "a94e805273114bedbf5e1ef291130cf8": {
      "model_module": "@jupyter-widgets/controls",
      "model_module_version": "2.0.0",
      "model_name": "HTMLModel",
      "state": {
       "_dom_classes": [],
       "_model_module": "@jupyter-widgets/controls",
       "_model_module_version": "2.0.0",
       "_model_name": "HTMLModel",
       "_view_count": null,
       "_view_module": "@jupyter-widgets/controls",
       "_view_module_version": "2.0.0",
       "_view_name": "HTMLView",
       "description": "",
       "description_allow_html": false,
       "layout": "IPY_MODEL_27e3396092bb4e94a7b4ddd83b648665",
       "placeholder": "​",
       "style": "IPY_MODEL_86d8d406d8ce42a4b77bc9dd75779621",
       "tabbable": null,
       "tooltip": null,
       "value": " 423/423 [00:08&lt;00:00, 48.40article/s]"
      }
     },
     "c21ee7242b9f4fcea75661d5c7301216": {
      "model_module": "@jupyter-widgets/controls",
      "model_module_version": "2.0.0",
      "model_name": "HBoxModel",
      "state": {
       "_dom_classes": [],
       "_model_module": "@jupyter-widgets/controls",
       "_model_module_version": "2.0.0",
       "_model_name": "HBoxModel",
       "_view_count": null,
       "_view_module": "@jupyter-widgets/controls",
       "_view_module_version": "2.0.0",
       "_view_name": "HBoxView",
       "box_style": "",
       "children": [
        "IPY_MODEL_c3787e19ce294b539b2502a3f780df31",
        "IPY_MODEL_d85cc7160f5e488ba399d49dbbb0ec76",
        "IPY_MODEL_a94e805273114bedbf5e1ef291130cf8"
       ],
       "layout": "IPY_MODEL_1c4dffe113b64c878b71d09ebaf8780b",
       "tabbable": null,
       "tooltip": null
      }
     },
     "c3787e19ce294b539b2502a3f780df31": {
      "model_module": "@jupyter-widgets/controls",
      "model_module_version": "2.0.0",
      "model_name": "HTMLModel",
      "state": {
       "_dom_classes": [],
       "_model_module": "@jupyter-widgets/controls",
       "_model_module_version": "2.0.0",
       "_model_name": "HTMLModel",
       "_view_count": null,
       "_view_module": "@jupyter-widgets/controls",
       "_view_module_version": "2.0.0",
       "_view_name": "HTMLView",
       "description": "",
       "description_allow_html": false,
       "layout": "IPY_MODEL_3f3aed58018f47528bf13f9709f452c0",
       "placeholder": "​",
       "style": "IPY_MODEL_8a540d4755de42598e2d8b976b3c21cd",
       "tabbable": null,
       "tooltip": null,
       "value": "Encoding articles : 100%"
      }
     },
     "c6dc203bc0f64dfcad5de57d9713fc51": {
      "model_module": "@jupyter-widgets/controls",
      "model_module_version": "2.0.0",
      "model_name": "FloatProgressModel",
      "state": {
       "_dom_classes": [],
       "_model_module": "@jupyter-widgets/controls",
       "_model_module_version": "2.0.0",
       "_model_name": "FloatProgressModel",
       "_view_count": null,
       "_view_module": "@jupyter-widgets/controls",
       "_view_module_version": "2.0.0",
       "_view_name": "ProgressView",
       "bar_style": "success",
       "description": "",
       "description_allow_html": false,
       "layout": "IPY_MODEL_0446e5836f3e46659fc8e8c14dcec846",
       "max": 98.0,
       "min": 0.0,
       "orientation": "horizontal",
       "style": "IPY_MODEL_65ed87816bf741e1841f5f06d6a03b5c",
       "tabbable": null,
       "tooltip": null,
       "value": 98.0
      }
     },
     "c9a7383ee2d149a58b44c6c8346735ad": {
      "model_module": "@jupyter-widgets/controls",
      "model_module_version": "2.0.0",
      "model_name": "HBoxModel",
      "state": {
       "_dom_classes": [],
       "_model_module": "@jupyter-widgets/controls",
       "_model_module_version": "2.0.0",
       "_model_name": "HBoxModel",
       "_view_count": null,
       "_view_module": "@jupyter-widgets/controls",
       "_view_module_version": "2.0.0",
       "_view_name": "HBoxView",
       "box_style": "",
       "children": [
        "IPY_MODEL_1ad33a4b72894816a2a663d6a6b04259",
        "IPY_MODEL_c6dc203bc0f64dfcad5de57d9713fc51",
        "IPY_MODEL_5ea165e36a9f49e3984b63e78fcc2151"
       ],
       "layout": "IPY_MODEL_7aeaeb14cdf94a45ba33b0eeb4857689",
       "tabbable": null,
       "tooltip": null
      }
     },
     "cdc0b08a0f7643b99a7be6457139362f": {
      "model_module": "@jupyter-widgets/base",
      "model_module_version": "2.0.0",
      "model_name": "LayoutModel",
      "state": {
       "_model_module": "@jupyter-widgets/base",
       "_model_module_version": "2.0.0",
       "_model_name": "LayoutModel",
       "_view_count": null,
       "_view_module": "@jupyter-widgets/base",
       "_view_module_version": "2.0.0",
       "_view_name": "LayoutView",
       "align_content": null,
       "align_items": null,
       "align_self": null,
       "border_bottom": null,
       "border_left": null,
       "border_right": null,
       "border_top": null,
       "bottom": null,
       "display": null,
       "flex": null,
       "flex_flow": null,
       "grid_area": null,
       "grid_auto_columns": null,
       "grid_auto_flow": null,
       "grid_auto_rows": null,
       "grid_column": null,
       "grid_gap": null,
       "grid_row": null,
       "grid_template_areas": null,
       "grid_template_columns": null,
       "grid_template_rows": null,
       "height": null,
       "justify_content": null,
       "justify_items": null,
       "left": null,
       "margin": null,
       "max_height": null,
       "max_width": null,
       "min_height": null,
       "min_width": null,
       "object_fit": null,
       "object_position": null,
       "order": null,
       "overflow": null,
       "padding": null,
       "right": null,
       "top": null,
       "visibility": null,
       "width": null
      }
     },
     "cf41f450d3364626b7cedb4437e7277e": {
      "model_module": "@jupyter-widgets/controls",
      "model_module_version": "2.0.0",
      "model_name": "HTMLStyleModel",
      "state": {
       "_model_module": "@jupyter-widgets/controls",
       "_model_module_version": "2.0.0",
       "_model_name": "HTMLStyleModel",
       "_view_count": null,
       "_view_module": "@jupyter-widgets/base",
       "_view_module_version": "2.0.0",
       "_view_name": "StyleView",
       "background": null,
       "description_width": "",
       "font_size": null,
       "text_color": null
      }
     },
     "d85cc7160f5e488ba399d49dbbb0ec76": {
      "model_module": "@jupyter-widgets/controls",
      "model_module_version": "2.0.0",
      "model_name": "FloatProgressModel",
      "state": {
       "_dom_classes": [],
       "_model_module": "@jupyter-widgets/controls",
       "_model_module_version": "2.0.0",
       "_model_name": "FloatProgressModel",
       "_view_count": null,
       "_view_module": "@jupyter-widgets/controls",
       "_view_module_version": "2.0.0",
       "_view_name": "ProgressView",
       "bar_style": "success",
       "description": "",
       "description_allow_html": false,
       "layout": "IPY_MODEL_68cd9c7068e743b8af0fc81de8d93d8c",
       "max": 423.0,
       "min": 0.0,
       "orientation": "horizontal",
       "style": "IPY_MODEL_21bd39c6b8f0469ba6ead1994c7da1f2",
       "tabbable": null,
       "tooltip": null,
       "value": 423.0
      }
     },
     "dc305947910b4175a23cb8c61b87b88a": {
      "model_module": "@jupyter-widgets/controls",
      "model_module_version": "2.0.0",
      "model_name": "HTMLStyleModel",
      "state": {
       "_model_module": "@jupyter-widgets/controls",
       "_model_module_version": "2.0.0",
       "_model_name": "HTMLStyleModel",
       "_view_count": null,
       "_view_module": "@jupyter-widgets/base",
       "_view_module_version": "2.0.0",
       "_view_name": "StyleView",
       "background": null,
       "description_width": "",
       "font_size": null,
       "text_color": null
      }
     }
    },
    "version_major": 2,
    "version_minor": 0
   }
  }
 },
 "nbformat": 4,
 "nbformat_minor": 0
}
